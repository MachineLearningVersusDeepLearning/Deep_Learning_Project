{
 "cells": [
  {
   "cell_type": "markdown",
   "metadata": {
    "colab_type": "text",
    "id": "uhOU1LP4G1Ez"
   },
   "source": [
    "# Let's define library\n",
    "- Tensorflow include keras"
   ]
  },
  {
   "cell_type": "code",
   "execution_count": 0,
   "metadata": {
    "colab": {},
    "colab_type": "code",
    "id": "paijQSiNGfxK"
   },
   "outputs": [],
   "source": [
    "from tensorflow.keras.models import Sequential\n",
    "from tensorflow.keras.layers import Dense\n",
    "from tensorflow.keras import optimizers"
   ]
  },
  {
   "cell_type": "markdown",
   "metadata": {
    "colab_type": "text",
    "id": "qzNUMpvTIpAn"
   },
   "source": [
    "Let's define train datas and test datas\n",
    "- we have to train using train datas\n",
    "- we evaluate using test datas\n"
   ]
  },
  {
   "cell_type": "code",
   "execution_count": 0,
   "metadata": {
    "colab": {},
    "colab_type": "code",
    "id": "Kt16Fe9QIn0f"
   },
   "outputs": [],
   "source": [
    "x_train = [1,2,3,4]\n",
    "y_train = [2,3,4,5]\n",
    "x_test =  [5,6,7]\n",
    "y_test =  [6,7,8]"
   ]
  },
  {
   "cell_type": "markdown",
   "metadata": {
    "colab_type": "text",
    "id": "oQv70wTrI47j"
   },
   "source": [
    "# Let's make a single model"
   ]
  },
  {
   "cell_type": "code",
   "execution_count": 0,
   "metadata": {
    "colab": {},
    "colab_type": "code",
    "id": "C9Kw2-7DGsWC"
   },
   "outputs": [],
   "source": [
    "model = Sequential()\n",
    "model.add(Dense(1,input_dim=1))"
   ]
  },
  {
   "cell_type": "markdown",
   "metadata": {
    "colab_type": "text",
    "id": "imcSvN2SJBcG"
   },
   "source": [
    "# Let's learn using stochastic gradient decent\n",
    "- epochs means how many times train the datas"
   ]
  },
  {
   "cell_type": "code",
   "execution_count": 0,
   "metadata": {
    "colab": {},
    "colab_type": "code",
    "id": "20bpvPSXJHmx"
   },
   "outputs": [],
   "source": [
    "sgd = optimizers.SGD(lr=0.1)\n",
    "model.compile(loss='mse',optimizer=sgd)\n",
    "model.summary()\n",
    "model.fit(x_train,y_train,epochs=30)"
   ]
  },
  {
   "cell_type": "markdown",
   "metadata": {
    "colab_type": "text",
    "id": "4H6YO9uRJdq-"
   },
   "source": [
    "# Let's check the predicted datas"
   ]
  },
  {
   "cell_type": "code",
   "execution_count": 0,
   "metadata": {
    "colab": {},
    "colab_type": "code",
    "id": "eU2j8amfJhhC"
   },
   "outputs": [],
   "source": [
    "y_predict = model.predict(x_test)\n",
    "print('prediction:\\n',y_predict)"
   ]
  },
  {
   "cell_type": "markdown",
   "metadata": {
    "colab_type": "text",
    "id": "-kApSaAQJ6c5"
   },
   "source": [
    "  # Let's evaluate using test datas"
   ]
  },
  {
   "cell_type": "code",
   "execution_count": 0,
   "metadata": {
    "colab": {},
    "colab_type": "code",
    "id": "E6nM2YjjJ-3q"
   },
   "outputs": [],
   "source": [
    "score = model.evaluate(x_test,y_test)\n",
    "print('cost',score)"
   ]
  },
  {
   "cell_type": "markdown",
   "metadata": {
    "colab_type": "text",
    "id": "6JBQvP9bKnbL"
   },
   "source": [
    "# Total codes"
   ]
  },
  {
   "cell_type": "code",
   "execution_count": 23,
   "metadata": {
    "colab": {
     "base_uri": "https://localhost:8080/",
     "height": 1000
    },
    "colab_type": "code",
    "id": "149CarbFKnQG",
    "outputId": "95f26b60-2bb2-469f-c85c-88ad72d00969"
   },
   "outputs": [
    {
     "name": "stdout",
     "output_type": "stream",
     "text": [
      "Model: \"sequential_3\"\n",
      "_________________________________________________________________\n",
      "Layer (type)                 Output Shape              Param #   \n",
      "=================================================================\n",
      "dense_3 (Dense)              (None, 1)                 2         \n",
      "=================================================================\n",
      "Total params: 2\n",
      "Trainable params: 2\n",
      "Non-trainable params: 0\n",
      "_________________________________________________________________\n",
      "Epoch 1/30\n",
      "1/1 [==============================] - 0s 2ms/step - loss: 20.9350\n",
      "Epoch 2/30\n",
      "1/1 [==============================] - 0s 1ms/step - loss: 9.4192\n",
      "Epoch 3/30\n",
      "1/1 [==============================] - 0s 1ms/step - loss: 4.2477\n",
      "Epoch 4/30\n",
      "1/1 [==============================] - 0s 1ms/step - loss: 1.9246\n",
      "Epoch 5/30\n",
      "1/1 [==============================] - 0s 1ms/step - loss: 0.8806\n",
      "Epoch 6/30\n",
      "1/1 [==============================] - 0s 1ms/step - loss: 0.4109\n",
      "Epoch 7/30\n",
      "1/1 [==============================] - 0s 4ms/step - loss: 0.1991\n",
      "Epoch 8/30\n",
      "1/1 [==============================] - 0s 1ms/step - loss: 0.1031\n",
      "Epoch 9/30\n",
      "1/1 [==============================] - 0s 1ms/step - loss: 0.0592\n",
      "Epoch 10/30\n",
      "1/1 [==============================] - 0s 1ms/step - loss: 0.0388\n",
      "Epoch 11/30\n",
      "1/1 [==============================] - 0s 2ms/step - loss: 0.0288\n",
      "Epoch 12/30\n",
      "1/1 [==============================] - 0s 1ms/step - loss: 0.0237\n",
      "Epoch 13/30\n",
      "1/1 [==============================] - 0s 1ms/step - loss: 0.0208\n",
      "Epoch 14/30\n",
      "1/1 [==============================] - 0s 1ms/step - loss: 0.0189\n",
      "Epoch 15/30\n",
      "1/1 [==============================] - 0s 1ms/step - loss: 0.0174\n",
      "Epoch 16/30\n",
      "1/1 [==============================] - 0s 1ms/step - loss: 0.0163\n",
      "Epoch 17/30\n",
      "1/1 [==============================] - 0s 1ms/step - loss: 0.0153\n",
      "Epoch 18/30\n",
      "1/1 [==============================] - 0s 1ms/step - loss: 0.0143\n",
      "Epoch 19/30\n",
      "1/1 [==============================] - 0s 1ms/step - loss: 0.0135\n",
      "Epoch 20/30\n",
      "1/1 [==============================] - 0s 1ms/step - loss: 0.0127\n",
      "Epoch 21/30\n",
      "1/1 [==============================] - 0s 1ms/step - loss: 0.0119\n",
      "Epoch 22/30\n",
      "1/1 [==============================] - 0s 1ms/step - loss: 0.0112\n",
      "Epoch 23/30\n",
      "1/1 [==============================] - 0s 1ms/step - loss: 0.0106\n",
      "Epoch 24/30\n",
      "1/1 [==============================] - 0s 3ms/step - loss: 0.0099\n",
      "Epoch 25/30\n",
      "1/1 [==============================] - 0s 1ms/step - loss: 0.0093\n",
      "Epoch 26/30\n",
      "1/1 [==============================] - 0s 1ms/step - loss: 0.0088\n",
      "Epoch 27/30\n",
      "1/1 [==============================] - 0s 1ms/step - loss: 0.0083\n",
      "Epoch 28/30\n",
      "1/1 [==============================] - 0s 2ms/step - loss: 0.0078\n",
      "Epoch 29/30\n",
      "1/1 [==============================] - 0s 2ms/step - loss: 0.0073\n",
      "Epoch 30/30\n",
      "1/1 [==============================] - 0s 1ms/step - loss: 0.0069\n",
      "Prediction : \n",
      " [[6.1380534]\n",
      " [7.2050886]\n",
      " [8.272123 ]]\n",
      "1/1 [==============================] - 0s 1ms/step - loss: 0.0451\n",
      "cost 0.04505706951022148\n"
     ]
    }
   ],
   "source": [
    "from tensorflow.keras.models import  Sequential\n",
    "from tensorflow.keras.layers import Dense\n",
    "from tensorflow.keras import optimizers\n",
    "import numpy as np\n",
    "x_train = [1,2,3,4]\n",
    "y_train = [2,3,4,5]\n",
    "x_test = [5,6,7]\n",
    "y_test = [6,7,8]\n",
    "model = Sequential()\n",
    "model.add(Dense(1,input_dim=1)) \n",
    "sgd = optimizers.SGD(lr = 0.1)\n",
    "model.compile(loss='mse',optimizer =sgd)\n",
    "model.summary()\n",
    "model.fit(x_train,y_train,epochs=30)\n",
    "y_predict = model.predict(x_test)\n",
    "print('Prediction : \\n',y_predict)\n",
    "score = model.evaluate(x_test,y_test)\n",
    "print('cost',score)"
   ]
  }
 ],
 "metadata": {
  "colab": {
   "name": "01__5minute_keras_linear_regression.ipynb",
   "provenance": []
  },
  "kernelspec": {
   "display_name": "Python 3",
   "language": "python",
   "name": "python3"
  },
  "language_info": {
   "codemirror_mode": {
    "name": "ipython",
    "version": 3
   },
   "file_extension": ".py",
   "mimetype": "text/x-python",
   "name": "python",
   "nbconvert_exporter": "python",
   "pygments_lexer": "ipython3",
   "version": "3.7.4"
  }
 },
 "nbformat": 4,
 "nbformat_minor": 1
}
