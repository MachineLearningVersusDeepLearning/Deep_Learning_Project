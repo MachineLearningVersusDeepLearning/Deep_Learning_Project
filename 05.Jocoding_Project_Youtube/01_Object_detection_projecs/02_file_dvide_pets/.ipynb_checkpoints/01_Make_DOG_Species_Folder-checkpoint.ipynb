{
 "cells": [
  {
   "cell_type": "markdown",
   "metadata": {},
   "source": [
    "# Import Library"
   ]
  },
  {
   "cell_type": "code",
   "execution_count": 1,
   "metadata": {},
   "outputs": [],
   "source": [
    "import os\n",
    "import glob"
   ]
  },
  {
   "cell_type": "markdown",
   "metadata": {},
   "source": [
    "# Load file name"
   ]
  },
  {
   "cell_type": "code",
   "execution_count": 2,
   "metadata": {},
   "outputs": [
    {
     "data": {
      "text/plain": [
       "['beagle_148.jpg',\n",
       " 'keeshond_194.jpg',\n",
       " 'wheaten_terrier_68.jpg',\n",
       " 'Ragdoll_149.jpg',\n",
       " 'staffordshire_bull_terrier_114.jpg',\n",
       " 'shiba_inu_102.jpg',\n",
       " 'american_pit_bull_terrier_157.jpg',\n",
       " 'scottish_terrier_9.jpg',\n",
       " 'shiba_inu_31.jpg',\n",
       " 'leonberger_78.jpg']"
      ]
     },
     "execution_count": 2,
     "metadata": {},
     "output_type": "execute_result"
    }
   ],
   "source": [
    "file_names = os.listdir('/home/nvidia/ai_data/pets/images/')\n",
    "file_names[0:10]"
   ]
  },
  {
   "cell_type": "markdown",
   "metadata": {},
   "source": [
    "# Splite the name"
   ]
  },
  {
   "cell_type": "code",
   "execution_count": 3,
   "metadata": {},
   "outputs": [
    {
     "data": {
      "text/plain": [
       "('beagle_148', '.jpg')"
      ]
     },
     "execution_count": 3,
     "metadata": {},
     "output_type": "execute_result"
    }
   ],
   "source": [
    "var1 = os.path.splitext(file_names[0])\n",
    "var1"
   ]
  },
  {
   "cell_type": "code",
   "execution_count": 4,
   "metadata": {},
   "outputs": [
    {
     "name": "stdout",
     "output_type": "stream",
     "text": [
      "beagle\n"
     ]
    }
   ],
   "source": [
    "name = file_names[0].split('/')\n",
    "name = name[-1].split('.')[-2]\n",
    "name = name.split('_')[0]\n",
    "print(name)"
   ]
  },
  {
   "cell_type": "code",
   "execution_count": 5,
   "metadata": {},
   "outputs": [],
   "source": [
    "lower = \"abcdefghijklnmopqrstuvwxyz\"\n",
    "capital = \"ABCDEFGHIJKLNMOPQRSTUVWXYZ\" "
   ]
  },
  {
   "cell_type": "code",
   "execution_count": 6,
   "metadata": {},
   "outputs": [
    {
     "name": "stdout",
     "output_type": "stream",
     "text": [
      "z\n"
     ]
    }
   ],
   "source": [
    "len(lower)\n",
    "for i in lower:\n",
    "    pass\n",
    "print(i)"
   ]
  },
  {
   "cell_type": "code",
   "execution_count": 7,
   "metadata": {},
   "outputs": [
    {
     "data": {
      "text/plain": [
       "26"
      ]
     },
     "execution_count": 7,
     "metadata": {},
     "output_type": "execute_result"
    }
   ],
   "source": [
    "len(capital)"
   ]
  },
  {
   "cell_type": "markdown",
   "metadata": {},
   "source": [
    "## If there is new_name, append the name"
   ]
  },
  {
   "cell_type": "code",
   "execution_count": 8,
   "metadata": {},
   "outputs": [],
   "source": [
    "new_names =[]\n",
    "dog_names =[]\n",
    "cat_names =[]\n",
    "\n",
    "################## include dogs and cats ###########\n",
    "for file_name in file_names:\n",
    "    flag = 0\n",
    "    name = file_name.split('/')\n",
    "    name = name[-1].split('.')[-2]\n",
    "    name = name.split('_')[0]\n",
    "    ############ new_name list check #######\n",
    "    for new_name in new_names:\n",
    "        ########## if new_name == name\n",
    "        if new_name == name:\n",
    "            flag = 1\n",
    "    if flag == 0:\n",
    "    ####### lower == new_name[0]\n",
    "        new_names.append(name)\n",
    "\n",
    "################### divide dogs and cats #############\n",
    "for new_name in new_names:        \n",
    "    flag = 0\n",
    "    for alpha in lower:   \n",
    "        if alpha == new_name[0]:\n",
    "            flag =1\n",
    "    if flag==1:\n",
    "        dog_names.append(new_name)\n",
    "    else:\n",
    "        cat_names.append(new_name)\n",
    "    \n",
    "            \n"
   ]
  },
  {
   "cell_type": "code",
   "execution_count": 9,
   "metadata": {},
   "outputs": [
    {
     "data": {
      "text/plain": [
       "['beagle',\n",
       " 'keeshond',\n",
       " 'wheaten',\n",
       " 'staffordshire',\n",
       " 'shiba',\n",
       " 'american',\n",
       " 'scottish',\n",
       " 'leonberger',\n",
       " 'english',\n",
       " 'yorkshire',\n",
       " 'great',\n",
       " 'boxer',\n",
       " 'newfoundland',\n",
       " 'basset',\n",
       " 'pug',\n",
       " 'japanese',\n",
       " 'pomeranian',\n",
       " 'saint',\n",
       " 'havanese',\n",
       " 'chihuahua',\n",
       " 'german',\n",
       " 'samoyed',\n",
       " 'miniature']"
      ]
     },
     "execution_count": 9,
     "metadata": {},
     "output_type": "execute_result"
    }
   ],
   "source": [
    "dog_names"
   ]
  },
  {
   "cell_type": "code",
   "execution_count": 10,
   "metadata": {},
   "outputs": [
    {
     "data": {
      "text/plain": [
       "['Ragdoll',\n",
       " 'British',\n",
       " 'Maine',\n",
       " 'Birman',\n",
       " 'Bombay',\n",
       " 'Siamese',\n",
       " 'Russian',\n",
       " 'Abyssinian',\n",
       " 'Bengal',\n",
       " 'Egyptian',\n",
       " 'Sphynx',\n",
       " 'Persian']"
      ]
     },
     "execution_count": 10,
     "metadata": {},
     "output_type": "execute_result"
    }
   ],
   "source": [
    "cat_names"
   ]
  },
  {
   "cell_type": "markdown",
   "metadata": {},
   "source": [
    "# Make a folder "
   ]
  },
  {
   "cell_type": "code",
   "execution_count": 11,
   "metadata": {},
   "outputs": [],
   "source": [
    "################ make a dog folder ##############\n",
    "os.system(\"mkdir /home/nvidia/ai_data/pets/dog\")\n",
    "for dog_name in dog_names:\n",
    "    os.system(\"mkdir /home/nvidia/ai_data/pets/dog/\"+dog_name)\n",
    "              \n",
    "################# make a cat folder ##############\n",
    "os.system(\"mkdir /home/nvidia/ai_data/pets/cat\")\n",
    "for cat_name in cat_names:\n",
    "    os.system(\"mkdir /home/nvidia/ai_data/pets/cat/\"+cat_name)\n"
   ]
  },
  {
   "cell_type": "markdown",
   "metadata": {},
   "source": [
    "# Check the folder"
   ]
  },
  {
   "cell_type": "code",
   "execution_count": 12,
   "metadata": {},
   "outputs": [
    {
     "data": {
      "text/plain": [
       "['dog', 'images.tar.gz', 'images', 'annotations.tar.gz', 'cat', 'annotations']"
      ]
     },
     "execution_count": 12,
     "metadata": {},
     "output_type": "execute_result"
    }
   ],
   "source": [
    "os.listdir(\"/home/nvidia/ai_data/pets/\")"
   ]
  },
  {
   "cell_type": "markdown",
   "metadata": {},
   "source": [
    "# Copy the Figure"
   ]
  },
  {
   "cell_type": "code",
   "execution_count": 13,
   "metadata": {},
   "outputs": [],
   "source": [
    "for dog_name in dog_names:\n",
    "    os.system(\"cp -r /home/nvidia/ai_data/pets/images/\"+dog_name+\"* \"+\"/home/nvidia/ai_data/pets/dog/\"+dog_name+\"/\")"
   ]
  },
  {
   "cell_type": "code",
   "execution_count": 14,
   "metadata": {},
   "outputs": [],
   "source": [
    "for cat_name in cat_names:\n",
    "    os.system(\"cp -r /home/nvidia/ai_data/pets/images/\"+cat_name+\"* \"+\"/home/nvidia/ai_data/pets/cat/\"+cat_name+\"/\")"
   ]
  }
 ],
 "metadata": {
  "kernelspec": {
   "display_name": "Python 3",
   "language": "python",
   "name": "python3"
  },
  "language_info": {
   "codemirror_mode": {
    "name": "ipython",
    "version": 3
   },
   "file_extension": ".py",
   "mimetype": "text/x-python",
   "name": "python",
   "nbconvert_exporter": "python",
   "pygments_lexer": "ipython3",
   "version": "3.8.3"
  }
 },
 "nbformat": 4,
 "nbformat_minor": 4
}
