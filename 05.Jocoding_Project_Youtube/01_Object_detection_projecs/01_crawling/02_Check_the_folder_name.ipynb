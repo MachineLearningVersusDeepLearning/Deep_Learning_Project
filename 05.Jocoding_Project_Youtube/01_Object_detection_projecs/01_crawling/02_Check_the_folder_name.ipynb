{
 "cells": [
  {
   "cell_type": "markdown",
   "metadata": {},
   "source": [
    "# Check the folder names"
   ]
  },
  {
   "cell_type": "code",
   "execution_count": 8,
   "metadata": {},
   "outputs": [],
   "source": [
    "import os\n",
    "import glob"
   ]
  },
  {
   "cell_type": "code",
   "execution_count": 16,
   "metadata": {},
   "outputs": [
    {
     "data": {
      "text/plain": [
       "['01. Draw Covariance of imu sensors.ipynb',\n",
       " '.ipynb_checkpoints',\n",
       " '01.Crawling_Selenium.ipynb',\n",
       " 'mbti',\n",
       " '02_check_the_folder_name.ipynb',\n",
       " 'readme.md']"
      ]
     },
     "execution_count": 16,
     "metadata": {},
     "output_type": "execute_result"
    }
   ],
   "source": [
    "os.listdir(\".\")"
   ]
  },
  {
   "cell_type": "code",
   "execution_count": 17,
   "metadata": {},
   "outputs": [
    {
     "data": {
      "text/plain": [
       "['intj',\n",
       " 'estp',\n",
       " 'enfj',\n",
       " 'lsfj',\n",
       " 'esfj',\n",
       " 'infp',\n",
       " 'isfp',\n",
       " 'enfp',\n",
       " 'entp',\n",
       " 'intp',\n",
       " 'lstj',\n",
       " 'entj',\n",
       " 'istp',\n",
       " 'esfp',\n",
       " 'estj',\n",
       " 'infj']"
      ]
     },
     "execution_count": 17,
     "metadata": {},
     "output_type": "execute_result"
    }
   ],
   "source": [
    "os.listdir(\"./mbti\")"
   ]
  },
  {
   "cell_type": "code",
   "execution_count": 18,
   "metadata": {},
   "outputs": [],
   "source": [
    "path = \"./mbti\""
   ]
  },
  {
   "cell_type": "code",
   "execution_count": 38,
   "metadata": {},
   "outputs": [
    {
     "name": "stdout",
     "output_type": "stream",
     "text": [
      "소녀시대 태연\n"
     ]
    }
   ],
   "source": [
    "folder_names = []\n",
    "name_path =[]\n",
    "for folder in os.listdir(\"./mbti\"):\n",
    "    character_path = path+\"/\"+str(folder)\n",
    "    sexs = os.listdir(character_path)\n",
    "    for sex in sexs:\n",
    "        sex_path = character_path +\"/\" + str(sex)\n",
    "        names = os.listdir(sex_path)\n",
    "        for name in names:\n",
    "            name_path = sex_path +\"/\" + str(name)\n",
    "            #print(name)\n",
    "            for folder_name in folder_names :\n",
    "                if folder_name == name:\n",
    "                    print(folder_name)\n",
    "                    \n",
    "            folder_names.append(name)\n",
    "            \n",
    "            #print(name_path)\n",
    "        "
   ]
  },
  {
   "cell_type": "code",
   "execution_count": null,
   "metadata": {},
   "outputs": [],
   "source": [
    "folders = glob.glob(\"./mbti/*\")\n",
    "folders"
   ]
  }
 ],
 "metadata": {
  "kernelspec": {
   "display_name": "Python 3",
   "language": "python",
   "name": "python3"
  },
  "language_info": {
   "codemirror_mode": {
    "name": "ipython",
    "version": 3
   },
   "file_extension": ".py",
   "mimetype": "text/x-python",
   "name": "python",
   "nbconvert_exporter": "python",
   "pygments_lexer": "ipython3",
   "version": "3.8.3"
  }
 },
 "nbformat": 4,
 "nbformat_minor": 4
}
