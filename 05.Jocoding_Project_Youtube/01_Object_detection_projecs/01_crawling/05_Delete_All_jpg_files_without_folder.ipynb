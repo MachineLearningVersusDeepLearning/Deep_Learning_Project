{
 "cells": [
  {
   "cell_type": "markdown",
   "metadata": {},
   "source": [
    "# Library Load"
   ]
  },
  {
   "cell_type": "code",
   "execution_count": 6,
   "metadata": {},
   "outputs": [],
   "source": [
    "import os"
   ]
  },
  {
   "cell_type": "code",
   "execution_count": 7,
   "metadata": {},
   "outputs": [
    {
     "name": "stdout",
     "output_type": "stream",
     "text": [
      "total 80\r\n",
      "drwxrwxr-x 3 nvidia nvidia  4096 12월  8 19:35 \u001b[0m\u001b[01;34m.\u001b[0m/\r\n",
      "drwxrwxr-x 3 nvidia nvidia  4096 12월  6 19:35 \u001b[01;34m..\u001b[0m/\r\n",
      "-rw-rw-r-- 1 nvidia nvidia  9205 12월  7 18:43 01.Crawling_Selenium_Only_One_World.ipynb\r\n",
      "-rw-rw-r-- 1 nvidia nvidia  3176 12월  7 00:47 02_Check_the_folder_name.ipynb\r\n",
      "-rw-rw-r-- 1 nvidia nvidia 25559 12월  8 19:35 03_Crawrling_all_datas_.ipynb\r\n",
      "-rw-rw-r-- 1 nvidia nvidia 17487 12월  8 00:49 04_Delete_All_jpg_files_withou_folder.ipynb\r\n",
      "drwxrwxr-x 2 nvidia nvidia  4096 12월  7 18:44 \u001b[01;34m.ipynb_checkpoints\u001b[0m/\r\n",
      "-rw-rw-r-- 1 nvidia nvidia   127 12월  5 22:55 readme.md\r\n"
     ]
    }
   ],
   "source": [
    "%ls -al"
   ]
  },
  {
   "cell_type": "markdown",
   "metadata": {},
   "source": [
    "# Find the data folder"
   ]
  },
  {
   "cell_type": "code",
   "execution_count": 8,
   "metadata": {},
   "outputs": [
    {
     "data": {
      "text/plain": [
       "'/home/nvidia/ai_data'"
      ]
     },
     "execution_count": 8,
     "metadata": {},
     "output_type": "execute_result"
    }
   ],
   "source": [
    "real_path = os.path.realpath(\"/home/nvidia/ai_data/\")\n",
    "real_path"
   ]
  },
  {
   "cell_type": "markdown",
   "metadata": {},
   "source": [
    "# OS Library"
   ]
  },
  {
   "cell_type": "code",
   "execution_count": 9,
   "metadata": {},
   "outputs": [],
   "source": [
    "import os\n",
    "path = real_path + \"/entertainer_picture\""
   ]
  },
  {
   "cell_type": "markdown",
   "metadata": {},
   "source": [
    "# Linux Version"
   ]
  },
  {
   "cell_type": "code",
   "execution_count": 10,
   "metadata": {},
   "outputs": [
    {
     "name": "stdout",
     "output_type": "stream",
     "text": [
      "final path =  rm -r /home/nvidia/ai_data/entertainer_picture/intj/woman/에이핑크\\ 손나은/*.jpg\n",
      "final path =  rm -r /home/nvidia/ai_data/entertainer_picture/intj/woman/구혜선/*.jpg\n",
      "final path =  rm -r /home/nvidia/ai_data/entertainer_picture/intj/woman/김유정/*.jpg\n",
      "final path =  rm -r /home/nvidia/ai_data/entertainer_picture/intj/woman/있지\\ 류진/*.jpg\n",
      "final path =  rm -r /home/nvidia/ai_data/entertainer_picture/intj/woman/공민지/*.jpg\n",
      "final path =  rm -r /home/nvidia/ai_data/entertainer_picture/intj/man/강동원/*.jpg\n",
      "final path =  rm -r /home/nvidia/ai_data/entertainer_picture/intj/man/빅뱅\\ 지드래곤/*.jpg\n",
      "final path =  rm -r /home/nvidia/ai_data/entertainer_picture/intj/man/이수혁/*.jpg\n",
      "final path =  rm -r /home/nvidia/ai_data/entertainer_picture/enfj/woman/걸스데이\\ 유라/*.jpg\n",
      "final path =  rm -r /home/nvidia/ai_data/entertainer_picture/enfj/woman/여자친구\\ 예린/*.jpg\n",
      "final path =  rm -r /home/nvidia/ai_data/entertainer_picture/enfj/man/엑소\\ 찬열/*.jpg\n",
      "final path =  rm -r /home/nvidia/ai_data/entertainer_picture/enfj/man/got7\\ 잭슨/*.jpg\n",
      "final path =  rm -r /home/nvidia/ai_data/entertainer_picture/enfj/man/강다니엘/*.jpg\n",
      "final path =  rm -r /home/nvidia/ai_data/entertainer_picture/enfj/man/방탄소년단\\ 지민/*.jpg\n",
      "final path =  rm -r /home/nvidia/ai_data/entertainer_picture/enfj/man/윤시윤/*.jpg\n",
      "final path =  rm -r /home/nvidia/ai_data/entertainer_picture/enfj/man/엑소\\ 수호/*.jpg\n",
      "final path =  rm -r /home/nvidia/ai_data/entertainer_picture/lsfj/woman/소녀시대\\ 태연/*.jpg\n",
      "final path =  rm -r /home/nvidia/ai_data/entertainer_picture/lsfj/woman/트와이스\\ 정연/*.jpg\n",
      "final path =  rm -r /home/nvidia/ai_data/entertainer_picture/lsfj/woman/브라운\\ 아이드걸스\\ 나르샤/*.jpg\n",
      "final path =  rm -r /home/nvidia/ai_data/entertainer_picture/lsfj/woman/안영미/*.jpg\n",
      "final path =  rm -r /home/nvidia/ai_data/entertainer_picture/lsfj/woman/트와이스\\ 다현/*.jpg\n",
      "final path =  rm -r /home/nvidia/ai_data/entertainer_picture/lsfj/woman/여자친구\\ 신비/*.jpg\n",
      "final path =  rm -r /home/nvidia/ai_data/entertainer_picture/lsfj/man/몬스타엑스\\ 셔누/*.jpg\n",
      "final path =  rm -r /home/nvidia/ai_data/entertainer_picture/lsfj/man/동방신기\\ 최강창민/*.jpg\n",
      "final path =  rm -r /home/nvidia/ai_data/entertainer_picture/esfj/woman/걸스데이\\ 혜리/*.jpg\n",
      "final path =  rm -r /home/nvidia/ai_data/entertainer_picture/esfj/woman/에이핑크\\ 김남주/*.jpg\n",
      "final path =  rm -r /home/nvidia/ai_data/entertainer_picture/esfj/woman/오마이걸\\ 효정/*.jpg\n",
      "final path =  rm -r /home/nvidia/ai_data/entertainer_picture/esfj/man/뉴이스트\\ 민현/*.jpg\n",
      "final path =  rm -r /home/nvidia/ai_data/entertainer_picture/esfj/man/신화\\ 앤디/*.jpg\n",
      "final path =  rm -r /home/nvidia/ai_data/entertainer_picture/esfj/man/스트레이키즈\\ 승민/*.jpg\n",
      "final path =  rm -r /home/nvidia/ai_data/entertainer_picture/esfj/man/방탄소년단\\ 제이홉/*.jpg\n",
      "final path =  rm -r /home/nvidia/ai_data/entertainer_picture/esfj/man/슈퍼주니어\\ 규현/*.jpg\n",
      "final path =  rm -r /home/nvidia/ai_data/entertainer_picture/infp/woman/선미/*.jpg\n",
      "final path =  rm -r /home/nvidia/ai_data/entertainer_picture/infp/woman/백예린/*.jpg\n",
      "final path =  rm -r /home/nvidia/ai_data/entertainer_picture/infp/woman/김숙/*.jpg\n",
      "final path =  rm -r /home/nvidia/ai_data/entertainer_picture/infp/woman/레드벨벳\\ 조이/*.jpg\n",
      "final path =  rm -r /home/nvidia/ai_data/entertainer_picture/infp/woman/아이유/*.jpg\n",
      "final path =  rm -r /home/nvidia/ai_data/entertainer_picture/infp/man/에픽하이\\ 타블로/*.jpg\n",
      "final path =  rm -r /home/nvidia/ai_data/entertainer_picture/infp/man/강호동/*.jpg\n",
      "final path =  rm -r /home/nvidia/ai_data/entertainer_picture/isfp/woman/진세연/*.jpg\n",
      "final path =  rm -r /home/nvidia/ai_data/entertainer_picture/isfp/woman/레드벨벳\\ 슬기/*.jpg\n",
      "final path =  rm -r /home/nvidia/ai_data/entertainer_picture/isfp/woman/Exid\\ LE/*.jpg\n",
      "final path =  rm -r /home/nvidia/ai_data/entertainer_picture/isfp/man/엑소\\ 백현/*.jpg\n",
      "final path =  rm -r /home/nvidia/ai_data/entertainer_picture/isfp/man/은지원/*.jpg\n",
      "final path =  rm -r /home/nvidia/ai_data/entertainer_picture/isfp/man/유재석/*.jpg\n",
      "final path =  rm -r /home/nvidia/ai_data/entertainer_picture/isfp/man/김영철/*.jpg\n",
      "final path =  rm -r /home/nvidia/ai_data/entertainer_picture/isfp/man/권정열/*.jpg\n",
      "final path =  rm -r /home/nvidia/ai_data/entertainer_picture/enfp/woman/홍진영/*.jpg\n",
      "final path =  rm -r /home/nvidia/ai_data/entertainer_picture/enfp/woman/이효리/*.jpg\n",
      "final path =  rm -r /home/nvidia/ai_data/entertainer_picture/enfp/woman/전소미/*.jpg\n",
      "final path =  rm -r /home/nvidia/ai_data/entertainer_picture/enfp/woman/마마무\\ 화사/*.jpg\n",
      "final path =  rm -r /home/nvidia/ai_data/entertainer_picture/enfp/man/방탄소년단\\ RM/*.jpg\n",
      "final path =  rm -r /home/nvidia/ai_data/entertainer_picture/enfp/man/방탄소년단\\ 뷔/*.jpg\n",
      "final path =  rm -r /home/nvidia/ai_data/entertainer_picture/enfp/man/박준영/*.jpg\n",
      "final path =  rm -r /home/nvidia/ai_data/entertainer_picture/enfp/man/세븐틴\\ 버논/*.jpg\n",
      "final path =  rm -r /home/nvidia/ai_data/entertainer_picture/entp/woman/우주소녀\\ 연정/*.jpg\n",
      "final path =  rm -r /home/nvidia/ai_data/entertainer_picture/entp/woman/티아라\\ 큐리/*.jpg\n",
      "final path =  rm -r /home/nvidia/ai_data/entertainer_picture/entp/woman/드림노트\\ 유아이/*.jpg\n",
      "final path =  rm -r /home/nvidia/ai_data/entertainer_picture/entp/man/TXT\\ 태현/*.jpg\n",
      "final path =  rm -r /home/nvidia/ai_data/entertainer_picture/entp/man/NCT\\ 재현/*.jpg\n",
      "final path =  rm -r /home/nvidia/ai_data/entertainer_picture/entp/man/비투비\\ 정일훈/*.jpg\n",
      "final path =  rm -r /home/nvidia/ai_data/entertainer_picture/entp/man/미스터\\ T\\ 황윤성/*.jpg\n",
      "final path =  rm -r /home/nvidia/ai_data/entertainer_picture/entp/man/잔나비\\ 김도형/*.jpg\n",
      "final path =  rm -r /home/nvidia/ai_data/entertainer_picture/intp/woman/(여자)아이들\\ 소연/*.jpg\n",
      "final path =  rm -r /home/nvidia/ai_data/entertainer_picture/intp/woman/에이핑크\\ 정은지/*.jpg\n",
      "final path =  rm -r /home/nvidia/ai_data/entertainer_picture/intp/man/오상진/*.jpg\n",
      "final path =  rm -r /home/nvidia/ai_data/entertainer_picture/intp/man/타일러/*.jpg\n",
      "final path =  rm -r /home/nvidia/ai_data/entertainer_picture/intp/man/방탄소년단\\ 진/*.jpg\n",
      "final path =  rm -r /home/nvidia/ai_data/entertainer_picture/intp/man/방탄소년단\\ 슈가/*.jpg\n",
      "final path =  rm -r /home/nvidia/ai_data/entertainer_picture/intp/man/엑소\\ 세훈/*.jpg\n",
      "final path =  rm -r /home/nvidia/ai_data/entertainer_picture/intp/man/기안84/*.jpg\n",
      "final path =  rm -r /home/nvidia/ai_data/entertainer_picture/lstj/woman/소녀시대\\ 써니/*.jpg\n",
      "final path =  rm -r /home/nvidia/ai_data/entertainer_picture/lstj/woman/홍진경/*.jpg\n",
      "final path =  rm -r /home/nvidia/ai_data/entertainer_picture/lstj/man/차태현/*.jpg\n",
      "final path =  rm -r /home/nvidia/ai_data/entertainer_picture/lstj/man/빅스\\ 혁/*.jpg\n",
      "final path =  rm -r /home/nvidia/ai_data/entertainer_picture/lstj/man/인피니트\\ 성규/*.jpg\n",
      "final path =  rm -r /home/nvidia/ai_data/entertainer_picture/lstj/man/iKON\\ 정찬우/*.jpg\n",
      "final path =  rm -r /home/nvidia/ai_data/entertainer_picture/lstj/man/GOT7\\ 마크/*.jpg\n",
      "final path =  rm -r /home/nvidia/ai_data/entertainer_picture/lstj/man/업텐션\\ 선율/*.jpg\n",
      "final path =  rm -r /home/nvidia/ai_data/entertainer_picture/entj/woman/러블리즈\\ 베이비소울/*.jpg\n",
      "final path =  rm -r /home/nvidia/ai_data/entertainer_picture/entj/woman/더보이즈\\ 주학년/*.jpg\n",
      "final path =  rm -r /home/nvidia/ai_data/entertainer_picture/entj/woman/소녀시대\\ 티파니/*.jpg\n",
      "final path =  rm -r /home/nvidia/ai_data/entertainer_picture/entj/man/블락비\\ 지코/*.jpg\n",
      "final path =  rm -r /home/nvidia/ai_data/entertainer_picture/entj/man/스윙스/*.jpg\n",
      "final path =  rm -r /home/nvidia/ai_data/entertainer_picture/entj/man/샤이니\\ 키/*.jpg\n",
      "final path =  rm -r /home/nvidia/ai_data/entertainer_picture/entj/man/에이스\\ 김병관/*.jpg\n",
      "final path =  rm -r /home/nvidia/ai_data/entertainer_picture/entj/man/슈퍼주니어\\ 이특/*.jpg\n",
      "final path =  rm -r /home/nvidia/ai_data/entertainer_picture/istp/woman/트와이스\\ 나연/*.jpg\n",
      "final path =  rm -r /home/nvidia/ai_data/entertainer_picture/istp/woman/여자친구\\ 은하/*.jpg\n",
      "final path =  rm -r /home/nvidia/ai_data/entertainer_picture/istp/woman/유빈/*.jpg\n",
      "final path =  rm -r /home/nvidia/ai_data/entertainer_picture/istp/woman/김연아/*.jpg\n",
      "final path =  rm -r /home/nvidia/ai_data/entertainer_picture/istp/man/장성규/*.jpg\n",
      "final path =  rm -r /home/nvidia/ai_data/entertainer_picture/istp/man/박명수/*.jpg\n",
      "final path =  rm -r /home/nvidia/ai_data/entertainer_picture/istp/man/펜타곤\\ 진호/*.jpg\n",
      "final path =  rm -r /home/nvidia/ai_data/entertainer_picture/istp/man/김종민/*.jpg\n",
      "final path =  rm -r /home/nvidia/ai_data/entertainer_picture/esfp/woman/모모랜드\\ 주이/*.jpg\n",
      "final path =  rm -r /home/nvidia/ai_data/entertainer_picture/esfp/woman/카드\\ 전소민/*.jpg\n",
      "final path =  rm -r /home/nvidia/ai_data/entertainer_picture/esfp/woman/소녀시대\\ 수영/*.jpg\n",
      "final path =  rm -r /home/nvidia/ai_data/entertainer_picture/esfp/man/sf9\\ 로운/*.jpg\n"
     ]
    },
    {
     "name": "stdout",
     "output_type": "stream",
     "text": [
      "final path =  rm -r /home/nvidia/ai_data/entertainer_picture/esfp/man/2PM\\ 우영/*.jpg\n",
      "final path =  rm -r /home/nvidia/ai_data/entertainer_picture/esfp/man/하성운/*.jpg\n",
      "final path =  rm -r /home/nvidia/ai_data/entertainer_picture/esfp/man/비/*.jpg\n",
      "final path =  rm -r /home/nvidia/ai_data/entertainer_picture/esfp/man/CIX\\ 배진영/*.jpg\n",
      "final path =  rm -r /home/nvidia/ai_data/entertainer_picture/estj/woman/한채영/*.jpg\n",
      "final path =  rm -r /home/nvidia/ai_data/entertainer_picture/estj/woman/모모랜드\\ 제인/*.jpg\n",
      "final path =  rm -r /home/nvidia/ai_data/entertainer_picture/estj/woman/이지혜/*.jpg\n",
      "final path =  rm -r /home/nvidia/ai_data/entertainer_picture/estj/man/GOT7\\ 뱀뱀/*.jpg\n",
      "final path =  rm -r /home/nvidia/ai_data/entertainer_picture/estj/man/AB6IX\\ 박우진/*.jpg\n",
      "final path =  rm -r /home/nvidia/ai_data/entertainer_picture/estj/man/김민규/*.jpg\n",
      "final path =  rm -r /home/nvidia/ai_data/entertainer_picture/estj/man/데프콘/*.jpg\n",
      "final path =  rm -r /home/nvidia/ai_data/entertainer_picture/estj/man/jyj\\ 김준수/*.jpg\n",
      "final path =  rm -r /home/nvidia/ai_data/entertainer_picture/infj/woman/소녀시대\\ 태연/*.jpg\n",
      "final path =  rm -r /home/nvidia/ai_data/entertainer_picture/infj/woman/김새론/*.jpg\n",
      "final path =  rm -r /home/nvidia/ai_data/entertainer_picture/infj/woman/강유미/*.jpg\n",
      "final path =  rm -r /home/nvidia/ai_data/entertainer_picture/infj/woman/마마무\\ 솔라/*.jpg\n",
      "final path =  rm -r /home/nvidia/ai_data/entertainer_picture/infj/woman/걸스데이\\ 소진/*.jpg\n",
      "final path =  rm -r /home/nvidia/ai_data/entertainer_picture/infj/woman/김이나/*.jpg\n",
      "final path =  rm -r /home/nvidia/ai_data/entertainer_picture/infj/man/위너\\ 강승윤/*.jpg\n",
      "final path =  rm -r /home/nvidia/ai_data/entertainer_picture/infj/man/엑소\\ 카이/*.jpg\n"
     ]
    }
   ],
   "source": [
    "####################################### find the character folder ##########################\n",
    "for folder in os.listdir(path):\n",
    "    ################################## make full path ###########################\n",
    "    character_path = path+\"/\"+str(folder)\n",
    "    ##################################  find the sex folders #####################\n",
    "    sexs = os.listdir(character_path)\n",
    "    for sex in sexs:\n",
    "        try: ########### error check ############\n",
    "            sex_path = character_path +\"/\" + str(sex) \n",
    "            ############################ find the persone name foldders #############3\n",
    "            #print(sex_path)\n",
    "            names = os.listdir(sex_path)\n",
    "\n",
    "            for name in names:\n",
    "                #print(\"name =\" ,name)\n",
    "                ############ split name and make variable ########\n",
    "                ############ each_name variable = words #####\n",
    "                #print(\"name type =\",type(name))\n",
    "                each_name = name.split(' ')\n",
    "                #print(\"name length =\",each_name)\n",
    "\n",
    "                ########### make full path ###########\n",
    "                final_path = sex_path + \"/\"\n",
    "                ############# name is longer than 2 ############\n",
    "                for index, split_name in enumerate(each_name):\n",
    "                    final_path += str(split_name)\n",
    "                    ###### if not final word add space #####\n",
    "                    if index != len(each_name)-1 :\n",
    "                        final_path +=  \"\\\\ \"\n",
    "                        #print(\"mmmm\",final_path)\n",
    "                #print(os.listdir(final_path))\n",
    "                ###################### make linux command ##################\n",
    "                final_path = \"rm -r \"+final_path+\"/\"+\"*.jpg\"\n",
    "                print(\"final path = \",final_path)\n",
    "                os.system(final_path)\n",
    "        except :\n",
    "                print(\"~~~~~~~~~~~~~~~~~error~~~~~~~~~~~~~~\\n\\n\\n\")"
   ]
  }
 ],
 "metadata": {
  "kernelspec": {
   "display_name": "Python 3",
   "language": "python",
   "name": "python3"
  },
  "language_info": {
   "codemirror_mode": {
    "name": "ipython",
    "version": 3
   },
   "file_extension": ".py",
   "mimetype": "text/x-python",
   "name": "python",
   "nbconvert_exporter": "python",
   "pygments_lexer": "ipython3",
   "version": "3.8.3"
  }
 },
 "nbformat": 4,
 "nbformat_minor": 4
}
