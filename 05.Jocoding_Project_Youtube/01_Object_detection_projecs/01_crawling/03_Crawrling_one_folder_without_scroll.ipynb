{
 "cells": [
  {
   "cell_type": "markdown",
   "metadata": {},
   "source": [
    "# Library Load"
   ]
  },
  {
   "cell_type": "code",
   "execution_count": 1,
   "metadata": {},
   "outputs": [],
   "source": [
    "#!/usr/bin/python3\n",
    "from selenium import webdriver\n",
    "from selenium.webdriver.common.keys import Keys\n",
    "import time\n",
    "import urllib.request"
   ]
  },
  {
   "cell_type": "markdown",
   "metadata": {},
   "source": [
    "# Open the Google webpage"
   ]
  },
  {
   "cell_type": "code",
   "execution_count": 2,
   "metadata": {},
   "outputs": [
    {
     "name": "stderr",
     "output_type": "stream",
     "text": [
      "<ipython-input-2-2fe359b01f4d>:8: DeprecationWarning: use options instead of chrome_options\n",
      "  driver = webdriver.Chrome(executable_path = driver_location,chrome_options=option)\n"
     ]
    }
   ],
   "source": [
    "binary_location = \"/usr/bin/google-chrome\"\n",
    "driver_location = \"/usr/local/bin/chromedriver\"\n",
    "\n",
    "\n",
    "option = webdriver.ChromeOptions()\n",
    "option.binary_location = binary_location\n",
    "\n",
    "driver = webdriver.Chrome(executable_path = driver_location,chrome_options=option)\n",
    "driver.get(\"http://www.google.co.kr\")"
   ]
  },
  {
   "cell_type": "markdown",
   "metadata": {},
   "source": [
    "# Search the folder"
   ]
  },
  {
   "cell_type": "code",
   "execution_count": 3,
   "metadata": {},
   "outputs": [],
   "source": [
    "import os\n",
    "real_path = os.path.realpath(\"/home/nvidia/ai_data/\")\n",
    "path = real_path + \"/entertainer_picture\""
   ]
  },
  {
   "cell_type": "code",
   "execution_count": 4,
   "metadata": {
    "scrolled": true
   },
   "outputs": [
    {
     "name": "stdout",
     "output_type": "stream",
     "text": [
      "우주소녀 연정\n",
      "/home/nvidia/ai_data/entertainer_picture/estp/woman/우주소녀 연정\n"
     ]
    },
    {
     "name": "stderr",
     "output_type": "stream",
     "text": [
      "<ipython-input-4-0b2c7f61d63f>:19: DeprecationWarning: use options instead of chrome_options\n",
      "  driver = webdriver.Chrome(executable_path = driver_location,chrome_options=option)\n"
     ]
    },
    {
     "name": "stdout",
     "output_type": "stream",
     "text": [
      "error 1\n",
      "error 1\n",
      "error 1\n",
      "error 1\n",
      "error 1\n",
      "error 1\n",
      "error 1\n",
      "error 1\n",
      "error 1\n",
      "error 1\n",
      "error 1\n",
      "error 1\n",
      "error 1\n",
      "error 1\n",
      "error 1\n",
      "error 1\n",
      "error 1\n",
      "error 1\n",
      "error 1\n",
      "error 1\n",
      "error 1\n",
      "error 1\n",
      "error 1\n",
      "error 1\n",
      "error 1\n",
      "error 1\n",
      "error 1\n",
      "error 1\n",
      "error 1\n",
      "error 1\n",
      "error 1\n",
      "error 1\n",
      "error 1\n",
      "error 1\n",
      "error 1\n",
      "error 1\n",
      "error 1\n",
      "error 1\n",
      "error 1\n",
      "error 1\n",
      "error 1\n",
      "error 1\n",
      "error 1\n",
      "error 1\n",
      "error 1\n",
      "error 2\n"
     ]
    }
   ],
   "source": [
    "try:\n",
    "    ####################################### find the character folder ##########################\n",
    "    ################################## make full path ###########################\n",
    "    character_path = path+\"/estp\"\n",
    "    ##################################  find the sex folders #####################\n",
    "    sexs = os.listdir(character_path)\n",
    "    for sex in sexs:\n",
    "        sex_path = character_path +\"/\" + str(sex)\n",
    "        ############################ find the persone name foldders #############3\n",
    "        names = os.listdir(sex_path)\n",
    "        for name in names:\n",
    "            name_path = sex_path +\"/\" + str(name)\n",
    "            print(name)\n",
    "            print(name_path)\n",
    "            ####################### open the chrome ##############################\n",
    "            option = webdriver.ChromeOptions()\n",
    "            option.binary_location = binary_location\n",
    "\n",
    "            driver = webdriver.Chrome(executable_path = driver_location,chrome_options=option)\n",
    "            driver.get(\"http://www.google.co.kr\")\n",
    "            \n",
    "            ############################## find the search menu ################################\n",
    "            elem = driver.find_element_by_name(\"q\")\n",
    "            ############################## find the word ##################################\n",
    "            elem.send_keys(name)\n",
    "            ################################ enter ################################\n",
    "            elem.send_keys(Keys.RETURN)\n",
    "            ################################  click the image ################################\n",
    "            driver.find_element_by_class_name('hide-focus-ring').click()\n",
    "\n",
    "                ############################## click the picture ##########\n",
    "            images = driver.find_elements_by_css_selector(\".rg_i.Q4LuWd\")\n",
    "            for i,image in enumerate(images):\n",
    "                    try:\n",
    "                        image.click()\n",
    "                        time.sleep(2)\n",
    "                        ############################### src #############################\n",
    "                        url = driver.find_element_by_xpath('/html/body/div[2]/c-wiz/div[3]/div[2]/div[3]/div/div/div[3]/div[2]/c-wiz/div[1]/div[1]/div/div[2]/a/img').get_attribute(\"src\") #  css_selector(\".n3VNCb\").get_attribute(\"src\")\n",
    "                        ############################ download #########################\n",
    "                        r = urllib.request.urlretrieve(url,name_path+\"/\"+str(i)+\".jpg\")\n",
    "                    except:\n",
    "                        print(\"error 1\")\n",
    "                        \n",
    "            driver.close()\n",
    "            \n",
    "except:\n",
    "    print(\"error 2\")"
   ]
  },
  {
   "cell_type": "markdown",
   "metadata": {},
   "source": [
    "# Reference\n",
    "01. How to execute selenium in Ubuntu linux(ENG), https://www.youtube.com/watch?v=67h3IT2lm40 \n",
    "02. How to crwaling (KOR), https://www.youtube.com/watch?v=1b7pXC1-IbE&list=PLU9-uwewPMe2-vtJAgWB6SNhHcTjJDgEO&index=2\n",
    "03. search google \"python selenium click\", https://stackoverflow.com/questions/21350605/python-selenium-click-on-button"
   ]
  }
 ],
 "metadata": {
  "kernelspec": {
   "display_name": "Python 3",
   "language": "python",
   "name": "python3"
  },
  "language_info": {
   "codemirror_mode": {
    "name": "ipython",
    "version": 3
   },
   "file_extension": ".py",
   "mimetype": "text/x-python",
   "name": "python",
   "nbconvert_exporter": "python",
   "pygments_lexer": "ipython3",
   "version": "3.8.3"
  }
 },
 "nbformat": 4,
 "nbformat_minor": 4
}
