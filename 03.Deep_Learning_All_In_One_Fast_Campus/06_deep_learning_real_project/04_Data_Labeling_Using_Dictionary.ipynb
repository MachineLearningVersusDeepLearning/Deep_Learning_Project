{
 "cells": [
  {
   "cell_type": "markdown",
   "metadata": {},
   "source": [
    "### 01. How to labeling ?"
   ]
  },
  {
   "cell_type": "markdown",
   "metadata": {},
   "source": [
    "[1] How to labeling, Youtube, https://www.youtube.com/watch?v=p0nR2YsCY_U&feature=youtu.be     \n",
    "[2] How to download, Github, OpenSource MIT License, https://github.com/tzutalin/labelImg   "
   ]
  },
  {
   "cell_type": "markdown",
   "metadata": {},
   "source": [
    "### 02. How to download the data?"
   ]
  },
  {
   "cell_type": "markdown",
   "metadata": {},
   "source": [
    "[1] Pet dataset, https://www.robots.ox.ac.uk/~vgg/data/pets/"
   ]
  },
  {
   "cell_type": "markdown",
   "metadata": {},
   "source": [
    "### 03 Check the dataset"
   ]
  },
  {
   "cell_type": "code",
   "execution_count": 18,
   "metadata": {},
   "outputs": [],
   "source": [
    "import os # change the file, find the path, cmd window command and so on\n",
    "from glob import glob # load the path\n",
    "import numpy as np # matrix calculation \n",
    "import tensorflow as tf # deep learning library\n",
    "from PIL import Image # image view\n",
    "import matplotlib.pyplot as plt #graph view\n",
    " "
   ]
  },
  {
   "cell_type": "markdown",
   "metadata": {},
   "source": [
    "#### 03.01 current directory"
   ]
  },
  {
   "cell_type": "code",
   "execution_count": 19,
   "metadata": {},
   "outputs": [
    {
     "data": {
      "text/plain": [
       "'/home/nvidia/Deep_Learning_Project/03.Deep_Learning_All_In_One_Fast_Campus/06_deep_learning_real_project'"
      ]
     },
     "execution_count": 19,
     "metadata": {},
     "output_type": "execute_result"
    }
   ],
   "source": [
    "os.getcwd()"
   ]
  },
  {
   "cell_type": "markdown",
   "metadata": {},
   "source": [
    "#### 03.02 List the name of images"
   ]
  },
  {
   "cell_type": "code",
   "execution_count": 20,
   "metadata": {
    "scrolled": true
   },
   "outputs": [
    {
     "data": {
      "text/plain": [
       "['beagle_148.jpg', 'keeshond_194.jpg', 'wheaten_terrier_68.jpg']"
      ]
     },
     "execution_count": 20,
     "metadata": {},
     "output_type": "execute_result"
    }
   ],
   "source": [
    "os.listdir('/home/nvidia/ai_data/pets/images/')[:3] # check what file in this directory"
   ]
  },
  {
   "cell_type": "markdown",
   "metadata": {},
   "source": [
    "#### 03.03 List the name of the xmls"
   ]
  },
  {
   "cell_type": "code",
   "execution_count": 21,
   "metadata": {},
   "outputs": [
    {
     "data": {
      "text/plain": [
       "['British_Shorthair_148.xml', 'Egyptian_Mau_168.xml', 'chihuahua_115.xml']"
      ]
     },
     "execution_count": 21,
     "metadata": {},
     "output_type": "execute_result"
    }
   ],
   "source": [
    "os.listdir('/home/nvidia/ai_data/pets/annotations/xmls/')[:3]"
   ]
  },
  {
   "cell_type": "markdown",
   "metadata": {},
   "source": [
    "#### 03.04 List the name of the .png"
   ]
  },
  {
   "cell_type": "code",
   "execution_count": 22,
   "metadata": {},
   "outputs": [
    {
     "data": {
      "text/plain": [
       "['japanese_chin_96.png', 'Siamese_135.png', 'Ragdoll_106.png']"
      ]
     },
     "execution_count": 22,
     "metadata": {},
     "output_type": "execute_result"
    }
   ],
   "source": [
    "os.listdir('/home/nvidia/ai_data/pets/annotations/trimaps/')[:3]"
   ]
  },
  {
   "cell_type": "markdown",
   "metadata": {},
   "source": [
    "#### 03.05 Erase not rgb imgaes"
   ]
  },
  {
   "cell_type": "code",
   "execution_count": 23,
   "metadata": {},
   "outputs": [
    {
     "data": {
      "text/plain": [
       "'RGB'"
      ]
     },
     "execution_count": 23,
     "metadata": {},
     "output_type": "execute_result"
    }
   ],
   "source": [
    "Image.open(glob('/home/nvidia/ai_data/pets/images/*.jpg')[0]).mode"
   ]
  },
  {
   "cell_type": "code",
   "execution_count": 24,
   "metadata": {},
   "outputs": [
    {
     "name": "stdout",
     "output_type": "stream",
     "text": [
      "(333, 500, 3)\n"
     ]
    }
   ],
   "source": [
    "img = Image.open(glob('/home/nvidia/ai_data/pets/images/*.jpg')[0])\n",
    "print(np.array(img).shape)"
   ]
  },
  {
   "cell_type": "code",
   "execution_count": 25,
   "metadata": {},
   "outputs": [
    {
     "name": "stdout",
     "output_type": "stream",
     "text": [
      "(325, 299)\n",
      "(275, 183)\n",
      "(175, 246)\n",
      "(214, 300)\n",
      "(150, 200, 4)\n",
      "(500, 364)\n",
      "(282, 500)\n",
      "(250, 350)\n",
      "(188, 216)\n",
      "(800, 582, 4)\n",
      "(275, 183, 4)\n",
      "(202, 250)\n"
     ]
    }
   ],
   "source": [
    "for image_path in glob('/home/nvidia/ai_data/pets/images//*.jpg'):\n",
    "    image = Image.open(image_path)\n",
    "    if image.mode != 'RGB':\n",
    "        print(np.array(image).shape)"
   ]
  },
  {
   "cell_type": "code",
   "execution_count": 26,
   "metadata": {},
   "outputs": [
    {
     "data": {
      "text/plain": [
       "7390"
      ]
     },
     "execution_count": 26,
     "metadata": {},
     "output_type": "execute_result"
    }
   ],
   "source": [
    "len(glob('/home/nvidia/ai_data/pets/images/*.jpg'))"
   ]
  },
  {
   "cell_type": "code",
   "execution_count": 27,
   "metadata": {},
   "outputs": [],
   "source": [
    "new_images = []"
   ]
  },
  {
   "cell_type": "code",
   "execution_count": 28,
   "metadata": {},
   "outputs": [],
   "source": [
    "for image_path in glob('/home/nvidia/ai_data/pets/images/*.jpg'):\n",
    "    image = Image.open(image_path)\n",
    "    if image.mode == 'RGB':\n",
    "        #print(np.array(image).shape)\n",
    "        new_images.append(image_path)"
   ]
  },
  {
   "cell_type": "code",
   "execution_count": 29,
   "metadata": {},
   "outputs": [
    {
     "data": {
      "text/plain": [
       "7378"
      ]
     },
     "execution_count": 29,
     "metadata": {},
     "output_type": "execute_result"
    }
   ],
   "source": [
    "len(new_images)"
   ]
  },
  {
   "cell_type": "markdown",
   "metadata": {},
   "source": [
    "### 04. Make a label "
   ]
  },
  {
   "cell_type": "markdown",
   "metadata": {},
   "source": [
    "### 04.01 Load the label name"
   ]
  },
  {
   "cell_type": "code",
   "execution_count": 30,
   "metadata": {},
   "outputs": [
    {
     "data": {
      "text/plain": [
       "'/home/nvidia/ai_data/pets/images/beagle_148.jpg'"
      ]
     },
     "execution_count": 30,
     "metadata": {},
     "output_type": "execute_result"
    }
   ],
   "source": [
    "new_images[0]"
   ]
  },
  {
   "cell_type": "code",
   "execution_count": 31,
   "metadata": {},
   "outputs": [
    {
     "name": "stdout",
     "output_type": "stream",
     "text": [
      "beagle\n"
     ]
    }
   ],
   "source": [
    "name = new_images[0].split('/')\n",
    "name = name[-1].split('.')[-2]\n",
    "name = name.split('_')[0]\n",
    "print(name)"
   ]
  },
  {
   "cell_type": "markdown",
   "metadata": {},
   "source": [
    "### 04.02 Define Class name"
   ]
  },
  {
   "cell_type": "code",
   "execution_count": 32,
   "metadata": {},
   "outputs": [],
   "source": [
    "class_list = set()\n",
    "for new_image in new_images:\n",
    "    name = new_image.split('/')\n",
    "    name = name[-1].split('.')[-2]\n",
    "    name = name.split('_')[0]\n",
    "    class_list.add(name)\n",
    "class_list = list(class_list)\n",
    "class_list = class_list"
   ]
  },
  {
   "cell_type": "code",
   "execution_count": 33,
   "metadata": {},
   "outputs": [
    {
     "data": {
      "text/plain": [
       "35"
      ]
     },
     "execution_count": 33,
     "metadata": {},
     "output_type": "execute_result"
    }
   ],
   "source": [
    "len(class_list)"
   ]
  },
  {
   "cell_type": "code",
   "execution_count": 34,
   "metadata": {},
   "outputs": [
    {
     "name": "stdout",
     "output_type": "stream",
     "text": [
      "['Egyptian', 'german', 'havanese', 'Russian', 'British', 'Bombay', 'Abyssinian', 'chihuahua', 'boxer', 'newfoundland', 'Sphynx', 'shiba', 'wheaten', 'english', 'saint', 'miniature', 'Persian', 'Ragdoll', 'pomeranian', 'japanese', 'Siamese', 'Bengal', 'american', 'Maine', 'samoyed', 'scottish', 'pug', 'leonberger', 'basset', 'beagle', 'Birman', 'yorkshire', 'keeshond', 'great', 'staffordshire']\n"
     ]
    }
   ],
   "source": [
    "print(class_list)"
   ]
  },
  {
   "cell_type": "code",
   "execution_count": 35,
   "metadata": {},
   "outputs": [],
   "source": [
    "class_list.sort()"
   ]
  },
  {
   "cell_type": "code",
   "execution_count": 36,
   "metadata": {},
   "outputs": [
    {
     "name": "stdout",
     "output_type": "stream",
     "text": [
      "['Abyssinian', 'Bengal', 'Birman', 'Bombay', 'British', 'Egyptian', 'Maine', 'Persian', 'Ragdoll', 'Russian', 'Siamese', 'Sphynx', 'american', 'basset', 'beagle', 'boxer', 'chihuahua', 'english', 'german', 'great', 'havanese', 'japanese', 'keeshond', 'leonberger', 'miniature', 'newfoundland', 'pomeranian', 'pug', 'saint', 'samoyed', 'scottish', 'shiba', 'staffordshire', 'wheaten', 'yorkshire']\n"
     ]
    }
   ],
   "source": [
    "print(class_list)"
   ]
  },
  {
   "cell_type": "code",
   "execution_count": 37,
   "metadata": {},
   "outputs": [],
   "source": [
    "class2index = {_class:index for index, _class in enumerate(class_list)}"
   ]
  },
  {
   "cell_type": "code",
   "execution_count": 38,
   "metadata": {},
   "outputs": [
    {
     "data": {
      "text/plain": [
       "{'Abyssinian': 0,\n",
       " 'Bengal': 1,\n",
       " 'Birman': 2,\n",
       " 'Bombay': 3,\n",
       " 'British': 4,\n",
       " 'Egyptian': 5,\n",
       " 'Maine': 6,\n",
       " 'Persian': 7,\n",
       " 'Ragdoll': 8,\n",
       " 'Russian': 9,\n",
       " 'Siamese': 10,\n",
       " 'Sphynx': 11,\n",
       " 'american': 12,\n",
       " 'basset': 13,\n",
       " 'beagle': 14,\n",
       " 'boxer': 15,\n",
       " 'chihuahua': 16,\n",
       " 'english': 17,\n",
       " 'german': 18,\n",
       " 'great': 19,\n",
       " 'havanese': 20,\n",
       " 'japanese': 21,\n",
       " 'keeshond': 22,\n",
       " 'leonberger': 23,\n",
       " 'miniature': 24,\n",
       " 'newfoundland': 25,\n",
       " 'pomeranian': 26,\n",
       " 'pug': 27,\n",
       " 'saint': 28,\n",
       " 'samoyed': 29,\n",
       " 'scottish': 30,\n",
       " 'shiba': 31,\n",
       " 'staffordshire': 32,\n",
       " 'wheaten': 33,\n",
       " 'yorkshire': 34}"
      ]
     },
     "execution_count": 38,
     "metadata": {},
     "output_type": "execute_result"
    }
   ],
   "source": [
    "class2index"
   ]
  },
  {
   "cell_type": "code",
   "execution_count": 39,
   "metadata": {},
   "outputs": [
    {
     "data": {
      "text/plain": [
       "27"
      ]
     },
     "execution_count": 39,
     "metadata": {},
     "output_type": "execute_result"
    }
   ],
   "source": [
    "class2index['pug']"
   ]
  }
 ],
 "metadata": {
  "kernelspec": {
   "display_name": "Python 3",
   "language": "python",
   "name": "python3"
  },
  "language_info": {
   "codemirror_mode": {
    "name": "ipython",
    "version": 3
   },
   "file_extension": ".py",
   "mimetype": "text/x-python",
   "name": "python",
   "nbconvert_exporter": "python",
   "pygments_lexer": "ipython3",
   "version": "3.8.3"
  }
 },
 "nbformat": 4,
 "nbformat_minor": 4
}
