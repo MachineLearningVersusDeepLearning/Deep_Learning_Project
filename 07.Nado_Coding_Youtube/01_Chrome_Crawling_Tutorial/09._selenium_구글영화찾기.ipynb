{
 "cells": [
  {
   "cell_type": "markdown",
   "metadata": {},
   "source": [
    "# 01. 영화 검색 창 열기"
   ]
  },
  {
   "cell_type": "code",
   "execution_count": 1,
   "metadata": {},
   "outputs": [],
   "source": [
    "from selenium import webdriver\n"
   ]
  },
  {
   "cell_type": "markdown",
   "metadata": {},
   "source": [
    "## headless 설정\n",
    "### window 창을 내부에서 띄우고 실행하는 것"
   ]
  },
  {
   "cell_type": "code",
   "execution_count": 2,
   "metadata": {},
   "outputs": [],
   "source": [
    "options = webdriver.ChromeOptions()\n",
    "options.headless = True\n",
    "options.add_argument(\"window-size=1920x1080\")\n",
    "options.add_argument(\"user-agent=Mozilla/5.0 (X11; Linux x86_64) AppleWebKit/537.36 (KHTML, like Gecko) Chrome/87.0.4280.88 Safari/537.36\")\n",
    "browser = webdriver.Chrome(options=options)\n",
    "url = \"https://play.google.com/store/movies?utm_source=apac_med&utm_medium=hasem&utm_content=Oct0120&utm_campaign=Evergreen&pcampaignid=MKT-EDR-apac-kr-1003227-med-hasem-mo-Evergreen-Oct0120-Text_Search_BKWS-BKWS%7cONSEM_kwid_43700009359644016_creativeid_416407016592_device_c&gclid=EAIaIQobChMImomvoMbj7QIVQWoqCh3AiApcEAAYASAAEgJqz_D_BwE&gclsrc=aw.ds\"\n",
    "browser.get(url)\n",
    "browser.maximize_window()"
   ]
  },
  {
   "cell_type": "code",
   "execution_count": 12,
   "metadata": {},
   "outputs": [],
   "source": [
    "orowser = webdriver.Chrome()\n",
    "url = \"https://play.google.com/store/movies?utm_source=apac_med&utm_medium=hasem&utm_content=Oct0120&utm_campaign=Evergreen&pcampaignid=MKT-EDR-apac-kr-1003227-med-hasem-mo-Evergreen-Oct0120-Text_Search_BKWS-BKWS%7cONSEM_kwid_43700009359644016_creativeid_416407016592_device_c&gclid=EAIaIQobChMImomvoMbj7QIVQWoqCh3AiApcEAAYASAAEgJqz_D_BwE&gclsrc=aw.ds\"\n",
    "browser.get(url)\n",
    "browser.maximize_window()"
   ]
  },
  {
   "cell_type": "markdown",
   "metadata": {},
   "source": [
    "# 02. 스크롤 내리기"
   ]
  },
  {
   "cell_type": "code",
   "execution_count": 8,
   "metadata": {},
   "outputs": [],
   "source": [
    "browser.execute_script(\"window.scrollTo(0,document.body.scrollHeight)\")"
   ]
  },
  {
   "cell_type": "code",
   "execution_count": 9,
   "metadata": {},
   "outputs": [],
   "source": [
    "import time"
   ]
  },
  {
   "cell_type": "code",
   "execution_count": 10,
   "metadata": {},
   "outputs": [],
   "source": [
    "cur_height = 0\n",
    "pre_height = -1\n",
    "while pre_height != cur_height:\n",
    "    pre_height = cur_height\n",
    "    cur_height = browser.execute_script(\"return document.body.scrollHeight\")\n",
    "    browser.execute_script(\"window.scrollTo(0,document.body.scrollHeight)\")\n",
    "    time.sleep(2) # 2 second"
   ]
  },
  {
   "cell_type": "markdown",
   "metadata": {},
   "source": [
    "# 03. 뷰티풀숩으로 영화정보 가져오기"
   ]
  },
  {
   "cell_type": "code",
   "execution_count": 48,
   "metadata": {},
   "outputs": [],
   "source": [
    "import requests\n",
    "from bs4 import BeautifulSoup"
   ]
  },
  {
   "cell_type": "code",
   "execution_count": 49,
   "metadata": {},
   "outputs": [],
   "source": [
    "soup = BeautifulSoup(browser.page_source,\"lxml\")"
   ]
  },
  {
   "cell_type": "code",
   "execution_count": 50,
   "metadata": {},
   "outputs": [
    {
     "name": "stdout",
     "output_type": "stream",
     "text": [
      "Movie Name :  저수지의 피크닉\n",
      "Original Price :  ₩10,000\n",
      "Discount Price :  ₩5,000\n",
      "https://play.google.com/store/movies/details/%EC%A0%80%EC%88%98%EC%A7%80%EC%9D%98_%ED%94%BC%ED%81%AC%EB%8B%89?id=A7a4mxwv4ug.P\n",
      "----------------------------------------------------------------------------------------------------\n",
      "Movie Name :  로그\n",
      "Original Price :  ₩10,000\n",
      "Discount Price :  ₩7,000\n",
      "https://play.google.com/store/movies/details/%EB%A1%9C%EA%B7%B8?id=6xVrsV-nDiE.P\n",
      "----------------------------------------------------------------------------------------------------\n",
      "Movie Name :  엽문리부트2020\n",
      "Original Price :  ₩11,000\n",
      "Discount Price :  ₩7,700\n",
      "https://play.google.com/store/movies/details/%EC%97%BD%EB%AC%B8%EB%A6%AC%EB%B6%80%ED%8A%B82020?id=wLS6VWF3nkw.P\n",
      "----------------------------------------------------------------------------------------------------\n",
      "Movie Name :  독전:비밀의숲\n",
      "Original Price :  ₩10,000\n",
      "Discount Price :  ₩5,000\n",
      "https://play.google.com/store/movies/details/%EB%8F%85%EC%A0%84_%EB%B9%84%EB%B0%80%EC%9D%98%EC%88%B2?id=CAeChiesgzc.P\n",
      "----------------------------------------------------------------------------------------------------\n",
      "Movie Name :  블랙 위도우: 파이널 챕터\n",
      "Original Price :  ₩10,000\n",
      "Discount Price :  ₩5,000\n",
      "https://play.google.com/store/movies/details/%EB%B8%94%EB%9E%99_%EC%9C%84%EB%8F%84%EC%9A%B0_%ED%8C%8C%EC%9D%B4%EB%84%90_%EC%B1%95%ED%84%B0?id=eSUwcxjBvdg.P\n",
      "----------------------------------------------------------------------------------------------------\n",
      "Movie Name :  더듀얼\n",
      "Original Price :  ₩11,000\n",
      "Discount Price :  ₩5,500\n",
      "https://play.google.com/store/movies/details/%EB%8D%94%EB%93%80%EC%96%BC?id=Tw2wJE7e7Ts.P\n",
      "----------------------------------------------------------------------------------------------------\n",
      "Movie Name :  스페셜 포스 : 라스트 타겟\n",
      "Original Price :  ₩10,000\n",
      "Discount Price :  ₩5,000\n",
      "https://play.google.com/store/movies/details/%EC%8A%A4%ED%8E%98%EC%85%9C_%ED%8F%AC%EC%8A%A4_%EB%9D%BC%EC%8A%A4%ED%8A%B8_%ED%83%80%EA%B2%9F?id=42TAziestOk.P\n",
      "----------------------------------------------------------------------------------------------------\n",
      "Movie Name :  백사 인연의 시작\n",
      "Original Price :  ₩10,000\n",
      "Discount Price :  ₩4,500\n",
      "https://play.google.com/store/movies/details/%EB%B0%B1%EC%82%AC_%EC%9D%B8%EC%97%B0%EC%9D%98_%EC%8B%9C%EC%9E%91?id=GgzV8idNYCI.P\n",
      "----------------------------------------------------------------------------------------------------\n",
      "Movie Name :  아쿠아맨/저스티스 리그/원더우먼 패키지 (자막판)\n",
      "Original Price :  ₩14,900\n",
      "Discount Price :  ₩14,000\n",
      "https://play.google.com/store/movies/details/%EC%95%84%EC%BF%A0%EC%95%84%EB%A7%A8_%EC%A0%80%EC%8A%A4%ED%8B%B0%EC%8A%A4_%EB%A6%AC%EA%B7%B8_%EC%9B%90%EB%8D%94%EC%9A%B0%EB%A8%BC_%ED%8C%A8%ED%82%A4%EC%A7%80_%EC%9E%90%EB%A7%89%ED%8C%90?id=hfvMVI7SfGI\n",
      "----------------------------------------------------------------------------------------------------\n",
      "Movie Name :  신비한 동물들과 그린델왈드의 범죄/ 신비한 동물 사전 영화 패키지 (자막판)\n",
      "Original Price :  ₩9,000\n",
      "Discount Price :  ₩8,600\n",
      "https://play.google.com/store/movies/details/%EC%8B%A0%EB%B9%84%ED%95%9C_%EB%8F%99%EB%AC%BC%EB%93%A4%EA%B3%BC_%EA%B7%B8%EB%A6%B0%EB%8D%B8%EC%99%88%EB%93%9C%EC%9D%98_%EB%B2%94%EC%A3%84_%EC%8B%A0%EB%B9%84%ED%95%9C_%EB%8F%99%EB%AC%BC_%EC%82%AC%EC%A0%84_%EC%98%81%ED%99%94_%ED%8C%A8%ED%82%A4%EC%A7%80_%EC%9E%90%EB%A7%89%ED%8C%90?id=v8OGmxrY3oA\n",
      "----------------------------------------------------------------------------------------------------\n",
      "Movie Name :  해리포터 시리즈 완결 패키지\n",
      "Original Price :  ₩36,000\n",
      "Discount Price :  ₩18,900\n",
      "https://play.google.com/store/movies/details/%ED%95%B4%EB%A6%AC%ED%8F%AC%ED%84%B0_%EC%8B%9C%EB%A6%AC%EC%A6%88_%EC%99%84%EA%B2%B0_%ED%8C%A8%ED%82%A4%EC%A7%80?id=DsVgRu5dDdY\n",
      "----------------------------------------------------------------------------------------------------\n",
      "Movie Name :  미들어스 패키지 (확장판)\n",
      "Original Price :  ₩27,000\n",
      "Discount Price :  ₩19,000\n",
      "https://play.google.com/store/movies/details/%EB%AF%B8%EB%93%A4%EC%96%B4%EC%8A%A4_%ED%8C%A8%ED%82%A4%EC%A7%80_%ED%99%95%EC%9E%A5%ED%8C%90?id=LaLYMiIghzY\n",
      "----------------------------------------------------------------------------------------------------\n",
      "Movie Name :  타일러 페리의 부!, 부2! 마데의 핼러윈 (자막판)\n",
      "Original Price :  ₩10,000\n",
      "Discount Price :  ₩5,500\n",
      "https://play.google.com/store/movies/details/%ED%83%80%EC%9D%BC%EB%9F%AC_%ED%8E%98%EB%A6%AC%EC%9D%98_%EB%B6%80_%EB%B6%802_%EB%A7%88%EB%8D%B0%EC%9D%98_%ED%95%BC%EB%9F%AC%EC%9C%88_%EC%9E%90%EB%A7%89%ED%8C%90?id=R3uujTR-kMs\n",
      "----------------------------------------------------------------------------------------------------\n",
      "Movie Name :  엑스맨 무비 컬렉션\n",
      "Original Price :  ₩37,000\n",
      "Discount Price :  ₩30,000\n",
      "https://play.google.com/store/movies/details/%EC%97%91%EC%8A%A4%EB%A7%A8_%EB%AC%B4%EB%B9%84_%EC%BB%AC%EB%A0%89%EC%85%98?id=2dfeNWT3b6w\n",
      "----------------------------------------------------------------------------------------------------\n",
      "Movie Name :  일루미네이션 엔터테인먼트가 제공하는 6편의 무비 컬렉션.  ('슈퍼배드', '슈퍼배드 2', '미니언즈 ...\n",
      "Original Price :  ₩21,000\n",
      "Discount Price :  ₩14,900\n",
      "https://play.google.com/store/movies/details/%EC%9D%BC%EB%A3%A8%EB%AF%B8%EB%84%A4%EC%9D%B4%EC%85%98_%EC%97%94%ED%84%B0%ED%85%8C%EC%9D%B8%EB%A8%BC%ED%8A%B8%EA%B0%80_%EC%A0%9C%EA%B3%B5%ED%95%98%EB%8A%94_6%ED%8E%B8%EC%9D%98_%EB%AC%B4%EB%B9%84_%EC%BB%AC%EB%A0%89%EC%85%98_%EC%8A%88%ED%8D%BC%EB%B0%B0%EB%93%9C_%EC%8A%88%ED%8D%BC%EB%B0%B0%EB%93%9C_2_%EB%AF%B8%EB%8B%88%EC%96%B8%EC%A6%88?id=CWA6UHtG4BA\n",
      "----------------------------------------------------------------------------------------------------\n",
      "Movie Name :  메이즈러너 트릴로지 (자막판)\n",
      "Original Price :  ₩13,500\n",
      "Discount Price :  ₩10,000\n",
      "https://play.google.com/store/movies/details/%EB%A9%94%EC%9D%B4%EC%A6%88%EB%9F%AC%EB%84%88_%ED%8A%B8%EB%A6%B4%EB%A1%9C%EC%A7%80_%EC%9E%90%EB%A7%89%ED%8C%90?id=pniAtrs-DRg\n",
      "----------------------------------------------------------------------------------------------------\n",
      "Movie Name :  50가지 그림자: 3 무비 콜렉션\n",
      "Original Price :  ₩10,500\n",
      "Discount Price :  ₩7,400\n",
      "https://play.google.com/store/movies/details/50%EA%B0%80%EC%A7%80_%EA%B7%B8%EB%A6%BC%EC%9E%90_3_%EB%AC%B4%EB%B9%84_%EC%BD%9C%EB%A0%89%EC%85%98?id=mFyAj0YjCKM\n",
      "----------------------------------------------------------------------------------------------------\n",
      "Movie Name :  저스티스 리그 패키지 (자막판)\n",
      "Original Price :  ₩14,900\n",
      "Discount Price :  ₩13,900\n",
      "https://play.google.com/store/movies/details/%EC%A0%80%EC%8A%A4%ED%8B%B0%EC%8A%A4_%EB%A6%AC%EA%B7%B8_%ED%8C%A8%ED%82%A4%EC%A7%80_%EC%9E%90%EB%A7%89%ED%8C%90?id=UoFllXXcy0w\n",
      "----------------------------------------------------------------------------------------------------\n",
      "Movie Name :  무협강호\n",
      "Original Price :  ₩10,000\n",
      "Discount Price :  ₩4,500\n",
      "https://play.google.com/store/movies/details/%EB%AC%B4%ED%98%91%EA%B0%95%ED%98%B8?id=KnjdZIqcgCw.P\n",
      "----------------------------------------------------------------------------------------------------\n",
      "Movie Name :  놈놈놈: 캔자스의 무법자\n",
      "Original Price :  ₩10,000\n",
      "Discount Price :  ₩5,000\n",
      "https://play.google.com/store/movies/details/%EB%86%88%EB%86%88%EB%86%88_%EC%BA%94%EC%9E%90%EC%8A%A4%EC%9D%98_%EB%AC%B4%EB%B2%95%EC%9E%90?id=3m8Oke6x-Kw.P\n",
      "----------------------------------------------------------------------------------------------------\n",
      "Movie Name :  스페셜 포스 : 라스트 타겟\n",
      "Original Price :  ₩10,000\n",
      "Discount Price :  ₩5,000\n",
      "https://play.google.com/store/movies/details/%EC%8A%A4%ED%8E%98%EC%85%9C_%ED%8F%AC%EC%8A%A4_%EB%9D%BC%EC%8A%A4%ED%8A%B8_%ED%83%80%EA%B2%9F?id=42TAziestOk.P\n",
      "----------------------------------------------------------------------------------------------------\n",
      "Movie Name :  엽문리부트2020\n",
      "Original Price :  ₩11,000\n",
      "Discount Price :  ₩7,700\n",
      "https://play.google.com/store/movies/details/%EC%97%BD%EB%AC%B8%EB%A6%AC%EB%B6%80%ED%8A%B82020?id=wLS6VWF3nkw.P\n",
      "----------------------------------------------------------------------------------------------------\n",
      "Movie Name :  저주받은 가문\n",
      "Original Price :  ₩4,000\n",
      "Discount Price :  ₩2,500\n",
      "https://play.google.com/store/movies/details/%EC%A0%80%EC%A3%BC%EB%B0%9B%EC%9D%80_%EA%B0%80%EB%AC%B8?id=CouhEVzz0t4.P\n",
      "----------------------------------------------------------------------------------------------------\n",
      "Movie Name :  해피데스데이:악마의큐피트\n",
      "Original Price :  ₩10,000\n",
      "Discount Price :  ₩5,000\n",
      "https://play.google.com/store/movies/details/%ED%95%B4%ED%94%BC%EB%8D%B0%EC%8A%A4%EB%8D%B0%EC%9D%B4_%EC%95%85%EB%A7%88%EC%9D%98%ED%81%90%ED%94%BC%ED%8A%B8?id=Oe-lmxYfMVk.P\n",
      "----------------------------------------------------------------------------------------------------\n",
      "Movie Name :  백사 인연의 시작\n",
      "Original Price :  ₩10,000\n",
      "Discount Price :  ₩4,500\n",
      "https://play.google.com/store/movies/details/%EB%B0%B1%EC%82%AC_%EC%9D%B8%EC%97%B0%EC%9D%98_%EC%8B%9C%EC%9E%91?id=GgzV8idNYCI.P\n",
      "----------------------------------------------------------------------------------------------------\n",
      "Movie Name :  예스, 갓, 예스\n",
      "Original Price :  ₩10,000\n",
      "Discount Price :  ₩5,000\n",
      "https://play.google.com/store/movies/details/%EC%98%88%EC%8A%A4_%EA%B0%93_%EC%98%88%EC%8A%A4?id=e59WgqjL4i8.P\n",
      "----------------------------------------------------------------------------------------------------\n"
     ]
    }
   ],
   "source": [
    "movie = soup.find_all(\"div\",attrs={\"class\":[\"Vpfmgd\"]})\n",
    "basic = \"https://play.google.com\"\n",
    "for name in movie:\n",
    "    title = name.find(\"div\",attrs={\"class\":\"WsMG1c nnK0zc\"}).get_text()\n",
    "\n",
    "    original_price = name.find(\"span\",attrs={\"class\":\"SUZt4c djCuy\"})\n",
    "    discount_price = name.find(\"span\",attrs={\"class\":\"VfPpfd ZdBevf i5DZme\"})\n",
    "    link = name.find(\"a\",attrs={\"class\":\"JC71ub\"})[\"href\"]\n",
    "    if original_price:\n",
    "        print(\"Movie Name : \",title)\n",
    "        print(\"Original Price : \",original_price.get_text())\n",
    "        print(\"Discount Price : \", discount_price.get_text())\n",
    "        print(basic+link)\n",
    "        print(\"-\"*100)"
   ]
  },
  {
   "cell_type": "code",
   "execution_count": 51,
   "metadata": {},
   "outputs": [
    {
     "data": {
      "text/plain": [
       "True"
      ]
     },
     "execution_count": 51,
     "metadata": {},
     "output_type": "execute_result"
    }
   ],
   "source": [
    "browser.get_screenshot_as_file(\"check.png\")"
   ]
  }
 ],
 "metadata": {
  "kernelspec": {
   "display_name": "Python 3",
   "language": "python",
   "name": "python3"
  },
  "language_info": {
   "codemirror_mode": {
    "name": "ipython",
    "version": 3
   },
   "file_extension": ".py",
   "mimetype": "text/x-python",
   "name": "python",
   "nbconvert_exporter": "python",
   "pygments_lexer": "ipython3",
   "version": "3.8.3"
  }
 },
 "nbformat": 4,
 "nbformat_minor": 4
}
