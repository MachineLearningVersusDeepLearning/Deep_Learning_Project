{
 "cells": [
  {
   "cell_type": "markdown",
   "metadata": {},
   "source": [
    "# 01. 유튜브 열기"
   ]
  },
  {
   "cell_type": "code",
   "execution_count": 1,
   "metadata": {},
   "outputs": [
    {
     "name": "stderr",
     "output_type": "stream",
     "text": [
      "<ipython-input-1-f43887a620ce>:15: DeprecationWarning: use options instead of chrome_options\n",
      "  driver3 = webdriver.Chrome(executable_path = driver_location,chrome_options=option)\n"
     ]
    }
   ],
   "source": [
    "#!/usr/bin/python3\n",
    "from selenium import webdriver\n",
    "from selenium.webdriver.common.keys import Keys\n",
    "import time\n",
    "import urllib.request\n",
    "binary_location = \"/usr/bin/google-chrome\"\n",
    "driver_location = \"/usr/local/bin/chromedriver\"\n",
    "\n",
    "\n",
    "option = webdriver.ChromeOptions()\n",
    "option.add_argument(\"user-agent=Mozilla/5.0 (X11; Linux x86_64) AppleWebKit/537.36 (KHTML, like Gecko) Chrome/87.0.4280.88 Safari/537.36\")\n",
    "\n",
    "option.binary_location = binary_location\n",
    "\n",
    "driver3 = webdriver.Chrome(executable_path = driver_location,chrome_options=option)\n",
    "driver3.get(\"https://partners.coupang.com/\")\n",
    "driver3.maximize_window()\n",
    "\n",
    "time.sleep(1)"
   ]
  },
  {
   "cell_type": "code",
   "execution_count": null,
   "metadata": {},
   "outputs": [],
   "source": []
  }
 ],
 "metadata": {
  "kernelspec": {
   "display_name": "Python 3",
   "language": "python",
   "name": "python3"
  },
  "language_info": {
   "codemirror_mode": {
    "name": "ipython",
    "version": 3
   },
   "file_extension": ".py",
   "mimetype": "text/x-python",
   "name": "python",
   "nbconvert_exporter": "python",
   "pygments_lexer": "ipython3",
   "version": "3.8.3"
  }
 },
 "nbformat": 4,
 "nbformat_minor": 4
}
