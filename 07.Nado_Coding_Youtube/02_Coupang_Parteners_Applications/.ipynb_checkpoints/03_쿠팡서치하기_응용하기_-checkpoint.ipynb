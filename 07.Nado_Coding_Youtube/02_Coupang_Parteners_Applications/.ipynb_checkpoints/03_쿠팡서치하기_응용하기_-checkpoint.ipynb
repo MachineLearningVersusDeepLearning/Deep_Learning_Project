{
 "cells": [
  {
   "cell_type": "markdown",
   "metadata": {},
   "source": [
    "## firefox로 찾은 쿠팡 정보는 메모장에 저장하기"
   ]
  },
  {
   "cell_type": "code",
   "execution_count": null,
   "metadata": {},
   "outputs": [],
   "source": [
    "#!/usr/bin/python3\n",
    "import requests\n",
    "from bs4 import BeautifulSoup \n",
    "from urllib.request import urlopen\n",
    "import re\n",
    "\n",
    "from selenium import webdriver\n",
    "from selenium.webdriver.common.keys import Keys\n",
    "import time\n",
    "import urllib.request\n",
    "import os\n",
    "\n",
    "\n",
    "path = os.listdir('/home/nvidia/ai_data/passwd/')\n",
    "with open(\"/home/nvidia/ai_data/passwd/passwd.txt\",\"r\") as f:\n",
    "    _id = f.readline()\n",
    "    _pd = f.readline()\n",
    "\n",
    "\n",
    "from selenium import webdriver\n",
    "from selenium.webdriver.common.keys import Keys\n",
    "driver3 = webdriver.Firefox(executable_path=\"/home/nvidia/firefox/geckodriver\")\n",
    "############## if 10 seconds later, no happen, refresh again\n",
    "driver3.get('https://login.coupang.com/login/login.pang?rtnUrl=https%3A%2F%2Fpartners.coupang.com%2Fapi%2Fv1%2Fpostlogin%3Fs%3DihiIJt-3q4IvXjBafF1Z76Q1Dh7bX62s2eFB7SDn79_mCyZc_lKpa3eTaLsRIL_9WW0_j7SfTRhQEh8ge3fraje82plSBz4pFrO-ZIuOUi0lPCq19_tY2RNXtmLecMm-z1KNkEywVNUhYZpYH54s0g')\n",
    "driver3.maximize_window()\n",
    "\n",
    "\n",
    "\n",
    "elem = driver3.find_element_by_name(\"email\")\n",
    "elem.clear()\n",
    "elem.send_keys(_id.split()[0])\n",
    "\n",
    "elem = driver3.find_element_by_name(\"password\")\n",
    "elem.clear()\n",
    "elem.send_keys(_pd)\n",
    "elem.send_keys(Keys.RETURN)\n"
   ]
  },
  {
   "cell_type": "code",
   "execution_count": 28,
   "metadata": {},
   "outputs": [
    {
     "name": "stdout",
     "output_type": "stream",
     "text": [
      "link : https://www.coupang.com/vp/products/1395425733?itemId=2430730738&vendorItemId=70424683912&pickType=COU_PICK\n",
      "/name :  Ap / price :  1,214,400 / rate :  5.0 / rate count :  926\n",
      "link : https://www.coupang.com/vp/products/242636932?itemId=2098714469&vendorItemId=70097614784\n",
      "/name :  삼성 / price :  1,209,000 / rate :  5.0 / rate count :  108\n",
      "link : https://www.coupang.com/vp/products/1137914312?itemId=2517400150&vendorItemId=70510368267\n",
      "/name :  삼성 / price :  1,959,000 / rate :  5.0 / rate count :  140\n",
      "Error Appear\n"
     ]
    }
   ],
   "source": [
    "import requests\n",
    "from bs4 import BeautifulSoup \n",
    "from urllib.request import urlopen\n",
    "import re\n",
    "\n",
    "try:\n",
    "    ########################  connect to the coupang #######################\n",
    "    url =\"https://www.coupang.com/np/search?component=&q=%EB%85%B8%ED%8A%B8%EB%B6%81&channel=user\"\n",
    "    headers = {\"User-Agent\":\"Mozilla/5.0 (X11; Linux x86_6dd4) AppleWebKit/537.36 (KHTML, like Gecko) Chrome/87.0.4280.88 Safari/537.36\"}\n",
    "    res = requests.get(url, headers = headers)\n",
    "    res.raise_for_status()\n",
    "    soup = BeautifulSoup(res.text,\"lxml\")\n",
    "    items = soup.find_all(\"li\",attrs={\"class\":re.compile(\"^search-product\")})\n",
    "    \n",
    "    ######################## find last page ################################\n",
    "    items = soup.find_all(\"div\",attrs={\"class\":\"search-pagination\"})\n",
    "    for item in items:\n",
    "        last_page = int(item.find(\"a\",attrs={\"class\":\"btn-last disabled\"}).get_text())\n",
    "        #print(last_page)\n",
    "        \n",
    "        \n",
    "    ##########################  search all page ################################\n",
    "    url =\"https://www.coupang.com/np/search?component=&q=%EB%85%B8%ED%8A%B8%EB%B6%81&channel=user\"\n",
    "    headers = {\"User-Agent\":\"Mozilla/5.0 (X11; Linux x86_64) AppleWebKit/537.36 (KHTML, like Gecko) Chrome/87.0.4280.88 Safari/537.36\"}\n",
    "\n",
    "\n",
    "    for i in range(1,last_page+1):\n",
    "        url = \"https://www.coupang.com/np/search?q=%EB%85%B8%ED%8A%B8%EB%B6%81&channel=user&component=&eventCategory=SRP&trcid=&traid=&sorter=scoreDesc&minPrice=&maxPrice=&priceRange=&filterType=&listSize=36&filter=&isPriceRange=false&brand=&offerCondition=&rating=0&page={}&rocketAll=false&searchIndexingToken=1=4&backgroundColor=\".format(i)\n",
    "        res = requests.get(url, headers = headers)\n",
    "        res.raise_for_status()\n",
    "        soup = BeautifulSoup(res.text,\"lxml\")\n",
    "        items = soup.find_all(\"li\",attrs={\"class\":re.compile(\"^search-product\")})\n",
    "\n",
    "\n",
    "\n",
    "        for item in items:\n",
    "        ###################### 광고 ############################\n",
    "            ad = item.find(\"span\", attrs = {\"class\" : \"ad-badge-text\"})\n",
    "            if ad:\n",
    "                pass\n",
    "            else:\n",
    "                ###################### 이름 ############################\n",
    "                name = item.find(\"div\",attrs={\"class\":\"name\"})\n",
    "                if name:\n",
    "                    name = name.get_text()\n",
    "                else:\n",
    "                    name = \"no name\"\n",
    "\n",
    "                ###################### 가격 ############################\n",
    "                price =  item.find(\"strong\",attrs={\"class\":\"price-value\"})\n",
    "                if price:\n",
    "                    price = price.get_text()\n",
    "                else :\n",
    "                    price = \"no price\"\n",
    "\n",
    "                ###################### 평점 ############################\n",
    "                rate = item.find(\"em\",attrs={\"class\":\"rating\"})\n",
    "                if rate:\n",
    "                    rate = rate.get_text()\n",
    "                else: \n",
    "                    rate = 0\n",
    "\n",
    "                rate_count = item.find(\"span\",attrs={\"class\":\"rating-total-count\"})\n",
    "                if rate_count:\n",
    "                    rate_count = rate_count.get_text()\n",
    "                    rate_count = (rate_count.split('(')[1].split(')')[0]) # [1:-1\n",
    "                else: \n",
    "                    rate_count = 0\n",
    "\n",
    "\n",
    "                if (float(rate) >4.5) & (float(rate_count)>100) :\n",
    "                    link = item.find(\"a\",attrs={\"class\":\"search-product-link\"})['href']\n",
    "                    print(\"link : https://www.coupang.com\"+link)\n",
    "                    print(\"/name : \",name[0:2], \"/ price : \",price, \"/ rate : \", rate, \"/ rate count : \", rate_count)\n",
    "\n",
    "                    \n",
    "                ############################### 쿠팡 열기 ################################\n",
    "\n",
    "                \n",
    "                \n",
    "                \n",
    "except:\n",
    "    print(\"Error Appear\")"
   ]
  },
  {
   "cell_type": "markdown",
   "metadata": {},
   "source": [
    "# Reference"
   ]
  },
  {
   "cell_type": "markdown",
   "metadata": {},
   "source": [
    "01. 쿠팡 데이터 가져오기 , https://www.youtube.com/watch?v=yQ20jZwDjTE&t=6536s "
   ]
  },
  {
   "cell_type": "code",
   "execution_count": 27,
   "metadata": {},
   "outputs": [
    {
     "ename": "IndentationError",
     "evalue": "unexpected unindent (<ipython-input-27-032811e2c412>, line 34)",
     "output_type": "error",
     "traceback": [
      "\u001b[0;36m  File \u001b[0;32m\"<ipython-input-27-032811e2c412>\"\u001b[0;36m, line \u001b[0;32m34\u001b[0m\n\u001b[0;31m    except:\u001b[0m\n\u001b[0m           ^\u001b[0m\n\u001b[0;31mIndentationError\u001b[0m\u001b[0;31m:\u001b[0m unexpected unindent\n"
     ]
    }
   ],
   "source": []
  },
  {
   "cell_type": "code",
   "execution_count": null,
   "metadata": {},
   "outputs": [],
   "source": []
  }
 ],
 "metadata": {
  "kernelspec": {
   "display_name": "Python 3",
   "language": "python",
   "name": "python3"
  },
  "language_info": {
   "codemirror_mode": {
    "name": "ipython",
    "version": 3
   },
   "file_extension": ".py",
   "mimetype": "text/x-python",
   "name": "python",
   "nbconvert_exporter": "python",
   "pygments_lexer": "ipython3",
   "version": "3.8.3"
  }
 },
 "nbformat": 4,
 "nbformat_minor": 4
}
