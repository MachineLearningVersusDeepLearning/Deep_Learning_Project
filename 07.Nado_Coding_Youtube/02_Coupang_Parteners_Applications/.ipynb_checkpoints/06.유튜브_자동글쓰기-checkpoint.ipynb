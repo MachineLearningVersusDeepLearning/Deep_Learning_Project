{
 "cells": [
  {
   "cell_type": "markdown",
   "metadata": {},
   "source": [
    "# 01. 유튜브 열기"
   ]
  },
  {
   "cell_type": "code",
   "execution_count": 2,
   "metadata": {},
   "outputs": [],
   "source": [
    "#!/usr/bin/python3\n",
    "from selenium import webdriver\n",
    "from selenium.webdriver.common.keys import Keys\n",
    "import time\n",
    "import urllib.request\n",
    "import os\n",
    "\n",
    "from selenium import webdriver\n",
    "from selenium.webdriver.common.keys import Keys\n",
    "driver3 = webdriver.Firefox(executable_path=\"/home/nvidia/firefox/geckodriver\")\n",
    "driver3.get('https://youtube.com')\n",
    "driver3.maximize_window()\n",
    "\n",
    "\n"
   ]
  },
  {
   "cell_type": "markdown",
   "metadata": {},
   "source": [
    "# 02. 타이핑하여 검색하기"
   ]
  },
  {
   "cell_type": "code",
   "execution_count": 98,
   "metadata": {},
   "outputs": [],
   "source": [
    "elem = driver.find_element_by_name(\"search_query\")\n",
    "elem.send_keys(\"new\")\n",
    "################################ enter ################################\n",
    "elem.send_keys(Keys.RETURN)"
   ]
  },
  {
   "cell_type": "markdown",
   "metadata": {},
   "source": [
    "# 03. 스크롤 내리기"
   ]
  },
  {
   "cell_type": "code",
   "execution_count": 99,
   "metadata": {},
   "outputs": [
    {
     "name": "stdout",
     "output_type": "stream",
     "text": [
      "0\n"
     ]
    }
   ],
   "source": [
    "a = driver.execute_script(\"return document.body.scrollHeight\")\n",
    "print(a)"
   ]
  },
  {
   "cell_type": "code",
   "execution_count": 100,
   "metadata": {},
   "outputs": [
    {
     "name": "stdout",
     "output_type": "stream",
     "text": [
      "0\n"
     ]
    }
   ],
   "source": [
    "cur_height = driver.execute_script(\"return document.body.scrollHeight\")\n",
    "print(cur_height)"
   ]
  },
  {
   "cell_type": "code",
   "execution_count": 101,
   "metadata": {},
   "outputs": [
    {
     "name": "stdout",
     "output_type": "stream",
     "text": [
      "None\n"
     ]
    }
   ],
   "source": [
    "cur_height = driver.execute_script(\"window.scrollTo(0, document.body.scrollHeight)\")\n",
    "print(cur_height)"
   ]
  },
  {
   "cell_type": "code",
   "execution_count": null,
   "metadata": {},
   "outputs": [],
   "source": []
  },
  {
   "cell_type": "code",
   "execution_count": 102,
   "metadata": {},
   "outputs": [],
   "source": [
    "elem = driver.find_elements_by_css_selector(\".yt-simple-endpoint.inline-block.style-scope.ytd-thumbnail\")[0]"
   ]
  },
  {
   "cell_type": "code",
   "execution_count": 103,
   "metadata": {},
   "outputs": [],
   "source": [
    "site = elem.get_property('href')"
   ]
  },
  {
   "cell_type": "code",
   "execution_count": 104,
   "metadata": {},
   "outputs": [
    {
     "name": "stderr",
     "output_type": "stream",
     "text": [
      "<ipython-input-104-25f2444e9735>:1: DeprecationWarning: use options instead of chrome_options\n",
      "  driver2 = webdriver.Chrome(executable_path = driver_location,chrome_options=option)\n"
     ]
    }
   ],
   "source": [
    "driver2 = webdriver.Chrome(executable_path = driver_location,chrome_options=option)\n",
    "driver2.get(site)\n",
    "driver2.maximize_window()"
   ]
  },
  {
   "cell_type": "markdown",
   "metadata": {},
   "source": [
    "# Fire fox를 사용하여 접속하기 "
   ]
  },
  {
   "cell_type": "code",
   "execution_count": 1,
   "metadata": {},
   "outputs": [],
   "source": [
    "#!/usr/bin/python3\n",
    "from selenium import webdriver\n",
    "from selenium.webdriver.common.keys import Keys\n",
    "import time\n",
    "import urllib.request\n",
    "import os\n",
    "\n",
    "\n",
    "path = os.listdir('/home/nvidia/ai_data/passwd/')\n",
    "with open(\"/home/nvidia/ai_data/passwd/passwd.txt\",\"r\") as f:\n",
    "    _id = f.readline()\n",
    "    _pd = f.readline()\n",
    "\n",
    "\n",
    "from selenium import webdriver\n",
    "from selenium.webdriver.common.keys import Keys\n",
    "driver3 = webdriver.Firefox(executable_path=\"/home/nvidia/firefox/geckodriver\")\n",
    "driver3.get('https://partners.coupang.com/')\n",
    "driver3.maximize_window()\n",
    "\n",
    "elem = driver3.find_element_by_xpath(\"/html/body/div/div/div/div[1]/header/div[2]/div/button[1]\")\n",
    "\n",
    "elem.click()\n",
    "time.sleep(1)"
   ]
  },
  {
   "cell_type": "code",
   "execution_count": 2,
   "metadata": {},
   "outputs": [],
   "source": [
    "\n",
    "elem = driver3.find_element_by_name(\"email\")\n",
    "elem.send_keys(_id.split()[0])\n",
    "\n",
    "elem = driver3.find_element_by_name(\"password\")\n",
    "elem.send_keys(_pd)\n",
    "\n",
    "elem.send_keys(Keys.RETURN)\n"
   ]
  },
  {
   "cell_type": "markdown",
   "metadata": {},
   "source": [
    "# 검색"
   ]
  },
  {
   "cell_type": "code",
   "execution_count": 3,
   "metadata": {},
   "outputs": [],
   "source": [
    "elem = driver3.find_element_by_xpath('/html/body/div/div/div/div[2]/div/div/div[1]/div/div/div[2]/div/div/div/div/div/div/div/div[1]/div/div/div/span/input')\n",
    "elem.send_keys(\"컴퓨터\")\n",
    "elem.send_keys(Keys.RETURN)"
   ]
  },
  {
   "cell_type": "code",
   "execution_count": 13,
   "metadata": {},
   "outputs": [
    {
     "name": "stdout",
     "output_type": "stream",
     "text": [
      "삼성PC/삼성컴퓨터/사무용PC/가정용P…\n",
      "초이스컴 게이밍 조립컴퓨터 올인원 풀세트 모니터포함…\n",
      "포유컴퓨터 MD추천 게임용에디션 인텔 AMD…\n",
      "바른컴퓨터 게이밍 조립컴퓨터 풀세트…\n",
      "삼성전자 데스크탑 5 DM500TCA-A78A (i7-107…\n",
      "더블유케이알 키보드 청소기 핸디 무선 청소도구 컴퓨터…\n",
      "삼성전자 올인원PC 프로스트 화이트 DM530ABE-L38A…\n",
      "컴퓨터도매집 드라마협찬 조립식 컴퓨터 본체+LCD…\n",
      "우유몰 케이블타이 벨크로 찍찍이 선정리 컴퓨터선정…\n",
      "삼성전자 일체형PC DM530ABE-L14A(Intel…\n",
      "삼성전자 사무용 가정용 온라인수업 컴퓨터 세트 i5…\n",
      "인싸컴 메탈유닛 LED 고사양 게임용pc 배틀그라운드 배…\n",
      "한성컴퓨터 게이밍 데스크탑 TFG MX9366W 화이트 (i3…\n",
      "대한컴퓨터샵 게이밍 조립PC (Ryzen 5 2600X WIN미포…\n",
      "컴퓨터도매집 게이밍 조립식 컴퓨터 본체 배틀그라운드…\n",
      "PC온스튜디오 게이밍 컴퓨터 고사양 조립 PC 라이젠 GT…\n",
      "초이스컴 게이밍 조립컴퓨터 올인원 풀세트 모니터포함…\n",
      "초이스컴 게이밍 조립컴퓨터 풀세트 32인치 모니터…\n",
      "컴맹닷컴 게이밍 조립 PC (i5-9500F WIN10 DDR4 1…\n",
      "LG전자 일체형PC 메탈릭실버 27V70N-FA70K (i7-10510…\n",
      "삼성전자 일체형PC DM530ABE-L14A (셀러론…\n",
      "포유컴퓨터 게이밍 조립PC IGA-M1203 (9세대 i3-910…\n",
      "초이스컴 게이밍 조립컴퓨터 풀세트 32인치 모니터…\n",
      "LG전자 일체형PC 22VD280-LX26K (셀러론 N4100 DD…\n",
      "컴맹닷컴 게이밍 마스터 PC CM97KFC-278H(인텔…\n"
     ]
    },
    {
     "ename": "AttributeError",
     "evalue": "'NoneType' object has no attribute 'get_text'",
     "output_type": "error",
     "traceback": [
      "\u001b[0;31m---------------------------------------------------------------------------\u001b[0m",
      "\u001b[0;31mAttributeError\u001b[0m                            Traceback (most recent call last)",
      "\u001b[0;32m<ipython-input-13-7d1e21630260>\u001b[0m in \u001b[0;36m<module>\u001b[0;34m\u001b[0m\n\u001b[1;32m     10\u001b[0m     \u001b[0;31m#print(name)\u001b[0m\u001b[0;34m\u001b[0m\u001b[0;34m\u001b[0m\u001b[0;34m\u001b[0m\u001b[0m\n\u001b[1;32m     11\u001b[0m \u001b[0;34m\u001b[0m\u001b[0m\n\u001b[0;32m---> 12\u001b[0;31m     \u001b[0mcurrency\u001b[0m \u001b[0;34m=\u001b[0m \u001b[0mname\u001b[0m\u001b[0;34m.\u001b[0m\u001b[0mfind\u001b[0m\u001b[0;34m(\u001b[0m\u001b[0;34m\"div\"\u001b[0m\u001b[0;34m,\u001b[0m\u001b[0mattrs\u001b[0m\u001b[0;34m=\u001b[0m\u001b[0;34m{\u001b[0m\u001b[0;34m\"class\"\u001b[0m\u001b[0;34m:\u001b[0m\u001b[0;34m[\u001b[0m\u001b[0;34m\"LinesEllipsis LinesEllipsis--clamped\"\u001b[0m\u001b[0;34m]\u001b[0m\u001b[0;34m}\u001b[0m\u001b[0;34m)\u001b[0m\u001b[0;34m.\u001b[0m\u001b[0mget_text\u001b[0m\u001b[0;34m(\u001b[0m\u001b[0;34m)\u001b[0m\u001b[0;34m\u001b[0m\u001b[0;34m\u001b[0m\u001b[0m\n\u001b[0m\u001b[1;32m     13\u001b[0m     \u001b[0;31m#discount = name.find(\"div\",attrs={\"class\":[\"sale-price\"]})\u001b[0m\u001b[0;34m\u001b[0m\u001b[0;34m\u001b[0m\u001b[0;34m\u001b[0m\u001b[0m\n\u001b[1;32m     14\u001b[0m \u001b[0;34m\u001b[0m\u001b[0m\n",
      "\u001b[0;31mAttributeError\u001b[0m: 'NoneType' object has no attribute 'get_text'"
     ]
    }
   ],
   "source": [
    "import requests\n",
    "from bs4 import BeautifulSoup\n",
    "\n",
    "soup = BeautifulSoup(driver3.page_source,\"lxml\")\n",
    "\n",
    "names = soup.find_all(\"div\",attrs={\"class\":[\"product-item\"]})\n",
    "#print(names)\n",
    "#basic = \"https://play.google.com\"\n",
    "for name in names:\n",
    "    #print(name)\n",
    "    \n",
    "    things = name.find(\"div\",attrs={\"class\":[\"LinesEllipsis LinesEllipsis--clamped\"]}).get_text()\n",
    "    now = name.find(\"div\",attrs={\"class\":[\"product-price\"]}).get_text()\n",
    "    pre = name.find(\"span\",attrs={\"class\":[\"currency-label\"]}).get_text()\n",
    "    discount = name.find(\"div\",attrs={\"class\":[\"discount\"]}).get_text()\n",
    "    #discount = name.find(\"div\",attrs={\"class\":[\"sale-price\"]})\n",
    "    \n",
    "    print(\"things : \", things)\n",
    "#    print(discount)"
   ]
  },
  {
   "cell_type": "code",
   "execution_count": null,
   "metadata": {},
   "outputs": [],
   "source": [
    "\n",
    "    title = name.find(\"div\",attrs={\"class\":\"WsMG1c nnK0zc\"}).get_text()\n",
    "\n",
    "    original_price = name.find(\"span\",attrs={\"class\":\"SUZt4c djCuy\"})\n",
    "    discount_price = name.find(\"span\",attrs={\"class\":\"VfPpfd ZdBevf i5DZme\"})\n",
    "    link = name.find(\"a\",attrs={\"class\":\"JC71ub\"})[\"href\"]\n",
    "    if original_price:\n",
    "        print(\"Movie Name : \",title)\n",
    "        print(\"Original Price : \",original_price.get_text())\n",
    "        print(\"Discount Price : \", discount_price.get_text())\n",
    "        print(basic+link)\n",
    "        print(\"-\"*100)"
   ]
  }
 ],
 "metadata": {
  "kernelspec": {
   "display_name": "Python 3",
   "language": "python",
   "name": "python3"
  },
  "language_info": {
   "codemirror_mode": {
    "name": "ipython",
    "version": 3
   },
   "file_extension": ".py",
   "mimetype": "text/x-python",
   "name": "python",
   "nbconvert_exporter": "python",
   "pygments_lexer": "ipython3",
   "version": "3.8.3"
  }
 },
 "nbformat": 4,
 "nbformat_minor": 4
}
