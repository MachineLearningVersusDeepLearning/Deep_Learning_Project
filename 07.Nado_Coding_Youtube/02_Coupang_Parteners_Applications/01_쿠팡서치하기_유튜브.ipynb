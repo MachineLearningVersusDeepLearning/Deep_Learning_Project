{
 "cells": [
  {
   "cell_type": "markdown",
   "metadata": {},
   "source": [
    "# 01. 라이브러리 가져오기"
   ]
  },
  {
   "cell_type": "code",
   "execution_count": 6,
   "metadata": {},
   "outputs": [],
   "source": [
    "import requests\n",
    "from bs4 import BeautifulSoup \n",
    "from urllib.request import urlopen\n",
    "import re"
   ]
  },
  {
   "cell_type": "markdown",
   "metadata": {},
   "source": [
    "# 02. 쿠팡에 접속하기"
   ]
  },
  {
   "cell_type": "code",
   "execution_count": 13,
   "metadata": {},
   "outputs": [],
   "source": [
    "url =\"https://www.coupang.com/np/search?component=&q=%EB%85%B8%ED%8A%B8%EB%B6%81&channel=user\"\n",
    "headers = {\"User-Agent\":\"Mozilla/5.0 (X11; Linux x86_64) AppleWebKit/537.36 (KHTML, like Gecko) Chrome/87.0.4280.88 Safari/537.36\"}\n",
    "res = requests.get(url, headers = headers)\n",
    "res.raise_for_status()\n"
   ]
  },
  {
   "cell_type": "code",
   "execution_count": 14,
   "metadata": {},
   "outputs": [],
   "source": [
    "soup = BeautifulSoup(res.text,\"lxml\")"
   ]
  },
  {
   "cell_type": "markdown",
   "metadata": {},
   "source": [
    "### 레귤러 이퀘이션을 사용하여 searh-product로 시작하는 클래스 모두 찾기"
   ]
  },
  {
   "cell_type": "code",
   "execution_count": 20,
   "metadata": {},
   "outputs": [],
   "source": [
    "items = soup.find_all(\"li\",attrs={\"class\":re.compile(\"^search-product\")})"
   ]
  },
  {
   "cell_type": "markdown",
   "metadata": {},
   "source": [
    "### 그 중 한가지만 프린트 하기"
   ]
  },
  {
   "cell_type": "code",
   "execution_count": 24,
   "metadata": {},
   "outputs": [
    {
     "data": {
      "text/plain": [
       "<bound method Tag.get_text of <div class=\"name\">NEXSTAND 본사인증 정품 K2 노트북 거치대 접이식 휴대용 받침대 넥 스탠드, K2 노트북스탠드(단일색상)</div>>"
      ]
     },
     "execution_count": 24,
     "metadata": {},
     "output_type": "execute_result"
    }
   ],
   "source": [
    "items[0].find(\"div\",attrs={\"class\":\"name\"}).get_text"
   ]
  },
  {
   "cell_type": "markdown",
   "metadata": {},
   "source": [
    "# 03. 쿠팡 값 파씽하기"
   ]
  },
  {
   "cell_type": "code",
   "execution_count": 41,
   "metadata": {},
   "outputs": [
    {
     "name": "stdout",
     "output_type": "stream",
     "text": [
      "/name :  LG전자 그램16 노트북 16ZD90P-GX50K (i5-1135G7 40.6cm), 미포함, NVMe 256GB, 8GB / price :  1,699,000 / rate :  no rate / no rate count :  no rate_count\n",
      "/name :  LG전자 그램16 노트북 옵시디안 블랙 16ZD90P-GX5BK (i5-1135G7 40.6cm), 미포함, NVMe 256GB, 8GB / price :  1,699,000 / rate :  no rate / no rate count :  no rate_count\n",
      "/name :  LG전자 그램17 노트북 옵시디안블랙 17ZD90P-GX7BK (i7-1165G7 43.1cm), 미포함, NVMe 256GB, 8GB / price :  1,979,000 / rate :  no rate / no rate count :  no rate_count\n",
      "/name :  삼성전자 노트북9 METAL NT901X5L 가볍고 슬림한 1.29kg 코어i5 SSD256GB 윈10 탑재, 8GB, SSD 256GB, 포함 / price :  699,000 / rate :  4.5 / no rate count :  (25)\n",
      "/name :  삼성전자 Flash 노트북 NT530XBB-K24CS (펜티엄 소프트 코랄 N5000 33.7cm), SSD 128GB, 4GB, WIN10 Home / price :  679,000 / rate :  4.5 / no rate count :  (42)\n",
      "/name :  주연테크 캐리북T 메탈슬림 터치 노트북 J3GP Pro (Intel Gemini Pentium Silver Quad Core N5000 33.782cm WIN10 Pro UHD Graphics 605), 포함, eMMC 64GB, 4GB / price :  359,000 / rate :  4.0 / no rate count :  (48)\n",
      "/name :  Apple 2020 맥북 에어 13, Silver, 10세대 i3-1.1GHz dual-core, SSD 256GB, 8GB / price :  1,214,400 / rate :  5.0 / no rate count :  (924)\n",
      "/name :  LG전자 2021 그램17 노트북 스노우화이트 17Z90P-GA76K (i7-1165G7 43.1cm WIN10 Home), 포함, NVME 512GB, 16GB / price :  2,479,000 / rate :  no rate / no rate count :  no rate_count\n",
      "/name :  삼성전자 NT550P7C 17.3인치 대화면 3세대i5 램16G SSD 256G 윈도우10 완벽 가성비노트북, 16GB, SSD 256GB / price :  399,000 / rate :  4.0 / no rate count :  (10)\n",
      "/name :  LG 울트라PC 15U560 6세대 i5 지포스940M 15.6인치 윈도우10, SSD 256GB + HDD 500GB, 8GB, 포함 / price :  645,000 / rate :  4.5 / no rate count :  (12)\n",
      "/name :  LG전자 2019 그램15 노트북 15ZD990-LX10K (팬티엄 5405U 39.6cm), SSD 128GB, 4GB, Free DOS / price :  949,000 / rate :  5.0 / no rate count :  (20)\n",
      "/name :  에이수스 비보북 노트북 투명실버 X509JA-CP001 (i5-1035G1 39.6cm), 미포함, NVMe 512GB, 8GB / price :  679,000 / rate :  4.5 / no rate count :  (11)\n",
      "/name :  LG전자 그램17 노트북 스노우 화이트 17ZD90P-GX70K (i7-1165G7 43.1cm), 미포함, NVMe 256GB, 8GB / price :  1,979,000 / rate :  no rate / no rate count :  no rate_count\n",
      "/name :  삼성전자 노트북7 Force NT760XBV-G58A (i5-8265U 39.6cm GTX1650), NVMe 256GB, 8GB, Linux / price :  1,259,000 / rate :  5.0 / no rate count :  (105)\n",
      "/name :  LG전자 울트라PC 노트북 15U40N-GR56K (라이젠5-4500U 39.6cm WIN10 Home), 포함, NVMe 256GB, 8GB / price :  1,300,000 / rate :  5.0 / no rate count :  (69)\n",
      "/name :  디클 클릭북 D14u (Celeron N4100 35.8cm WIN 10 eMMC 64GB), 로즈골드, 키스킨 랜덤 발송 + 유선마우스 + 패드 + 오피스 365 / price :  382,900 / rate :  4.0 / no rate count :  (67)\n",
      "/name :  LG 그램 14Z950 5세대 i5 14인치 윈도우10, 8GB, SSD256GB, 포함 / price :  649,000 / rate :  4.0 / no rate count :  (9)\n",
      "/name :  LG전자 2021 그램17 노트북 옵시디안블랙 17ZD90P-GX5BK (i5-1135G7 43.1cm), 미포함, NVMe 256GB, 8GB / price :  1,769,000 / rate :  no rate / no rate count :  no rate_count\n",
      "/name :  LG 그램14 노트북 스노우화이트 14ZD995-LX20K (펜티엄-6405U 35.5cm), 미포함, M.2 128GB, 4GB / price :  899,000 / rate :  no rate / no rate count :  no rate_count\n",
      "/name :  레노버 ideapad S340-13IML 5D 노트북 81UM003QKR Platinum Grey(i5-10210U 33.7cm WIN미포함), 미포함, SSD 256GB, 8GB / price :  644,000 / rate :  4.5 / no rate count :  (28)\n",
      "/name :  Apple 2020년 맥북 에어 13 (M1 칩셋 8코어 CPU), 실버, SSD 256GB / price :  1,238,400 / rate :  no rate / no rate count :  no rate_count\n",
      "/name :  LG전자 그램17 노트북 스노우 화이트 17ZD90P-GX50K (i5-1135G7 43.1cm), 미포함, NVMe 256GB, 8GB / price :  1,769,000 / rate :  no rate / no rate count :  no rate_count\n",
      "/name :  아이뮤즈 노트북 그레이 StormBook13 Plus (아톰 Z8350 33.782cm WIN10 Home) + 키보드 스킨 + 무선마우스 그레이 M1, 포함, eMMC 64GB, 2GB / price :  251,800 / rate :  no rate / no rate count :  no rate_count\n",
      "/name :  삼성전자 갤럭시북 이온 NT950XCJ-K78A (i7-10510U 39.6cm), 포함, NVMe 256GB + NVMe 256GB, 16GB / price :  1,959,000 / rate :  5.0 / no rate count :  (140)\n",
      "/name :  삼성전자 갤럭시북 S Wi-Fi 노트북 얼씨 골드 NT767XCM-K38 (i3-L13G4 33.7cm WIN10 Home), 포함, eUFS 256GB, 8GB / price :  1,097,000 / rate :  5.0 / no rate count :  (7)\n",
      "/name :  LG전자 그램14 노트북 옵시디안블랙 14ZD90P-GX5BK (i5-1135G7 35.5cm), 미포함, NVMe 256GB, 8GB / price :  1,569,000 / rate :  no rate / no rate count :  no rate_count\n",
      "/name :  삼성전자 삼성노트북 i5-3세대 8G SSD256G 14인치 WIN10, SSD 240GB, 포함, 8GB / price :  375,000 / rate :  4.0 / no rate count :  (15)\n",
      "/name :  LG전자 그램16 노트북 옵시디안블랙 16ZD90P-GX7BK (i7-1165G7 40.6cm), 미포함, NVMe 256GB, 8GB / price :  1,919,000 / rate :  no rate / no rate count :  no rate_count\n",
      "/name :  LG전자 울트라 PC 노트북 17U70N-GA56K 다크실버 (i5-10210U 43.1cm), NVMe 256GB, 8GB, WIN10 Home / price :  1,397,820 / rate :  5.0 / no rate count :  (21)\n",
      "/name :  삼성전자 갤럭시북 S NT767XCM-K58S Mercury Gray (Wi-Fi전용 i5-L16G7 33.7cm Win10 Home), 포함, eUFS 256GB, 8GB / price :  1,298,000 / rate :  5.0 / no rate count :  (16)\n",
      "/name :  LG전자 그램14 노트북 스노우 화이트 14ZD90P-GX50K (i5-1135G7 35.5cm), 미포함, NVMe 256GB, 8GB / price :  1,569,000 / rate :  no rate / no rate count :  no rate_count\n",
      "/name :  디클 클릭북 노트북 D141+ IPS (Atom-Z8350F 35.6cm eMMC 32G), 2GB, WIN10S, 화이트 / price :  239,000 / rate :  4.0 / no rate count :  (323)\n"
     ]
    }
   ],
   "source": [
    "for item in items:\n",
    "    ###################### 광고 ############################\n",
    "    ad = item.find(\"span\", attrs = {\"class\" : \"ad-badge-text\"})\n",
    "    if ad:\n",
    "        pass\n",
    "    else:\n",
    "        ###################### 이름 ############################\n",
    "        name = item.find(\"div\",attrs={\"class\":\"name\"})\n",
    "        if name:\n",
    "            name = name.get_text()\n",
    "        else:\n",
    "            name = \"no name\"\n",
    "\n",
    "        ###################### 가격 ############################\n",
    "        price =  item.find(\"strong\",attrs={\"class\":\"price-value\"})\n",
    "        if price:\n",
    "            price = price.get_text()\n",
    "        else :\n",
    "            price = \"no price\"\n",
    "\n",
    "        ###################### 평점 ############################\n",
    "        rate = item.find(\"em\",attrs={\"class\":\"rating\"})\n",
    "        if rate:\n",
    "            rate = rate.get_text()\n",
    "        else: \n",
    "            rate = \"no rate\"\n",
    "            \n",
    "        rate_count = item.find(\"span\",attrs={\"class\":\"rating-total-count\"})\n",
    "        if rate_count:\n",
    "            rate_count = rate_count.get_text()\n",
    "        else: \n",
    "            rate_count = \"no rate_count\"\n",
    "            \n",
    "        print(\"/name : \",name, \"/ price : \",price, \"/ rate : \", rate, \"/ no rate count : \", rate_count)\n",
    "        \n"
   ]
  },
  {
   "cell_type": "markdown",
   "metadata": {},
   "source": [
    "# 높은 평정과 후기가 있는 것만 필터링하기"
   ]
  },
  {
   "cell_type": "code",
   "execution_count": 57,
   "metadata": {},
   "outputs": [
    {
     "name": "stdout",
     "output_type": "stream",
     "text": [
      "/name :  Ap / price :  1,214,400 / rate :  5.0 / rate count :  924\n",
      "/name :  삼성 / price :  1,259,000 / rate :  5.0 / rate count :  105\n",
      "/name :  삼성 / price :  1,959,000 / rate :  5.0 / rate count :  140\n"
     ]
    }
   ],
   "source": [
    "for item in items:\n",
    "    ###################### 광고 ############################\n",
    "    ad = item.find(\"span\", attrs = {\"class\" : \"ad-badge-text\"})\n",
    "    if ad:\n",
    "        pass\n",
    "    else:\n",
    "        ###################### 이름 ############################\n",
    "        name = item.find(\"div\",attrs={\"class\":\"name\"})\n",
    "        if name:\n",
    "            name = name.get_text()\n",
    "        else:\n",
    "            name = \"no name\"\n",
    "\n",
    "        ###################### 가격 ############################\n",
    "        price =  item.find(\"strong\",attrs={\"class\":\"price-value\"})\n",
    "        if price:\n",
    "            price = price.get_text()\n",
    "        else :\n",
    "            price = \"no price\"\n",
    "\n",
    "        ###################### 평점 ############################\n",
    "        rate = item.find(\"em\",attrs={\"class\":\"rating\"})\n",
    "        if rate:\n",
    "            rate = rate.get_text()\n",
    "        else: \n",
    "            rate = 0\n",
    "            \n",
    "        rate_count = item.find(\"span\",attrs={\"class\":\"rating-total-count\"})\n",
    "        if rate_count:\n",
    "            rate_count = rate_count.get_text()\n",
    "            rate_count = (rate_count.split('(')[1].split(')')[0]) # [1:-1\n",
    "        else: \n",
    "            rate_count = 0\n",
    "        \n",
    "        if (float(rate) >4.5) & (float(rate_count)>100) :\n",
    "           print(\"/name : \",name[0:2], \"/ price : \",price, \"/ rate : \", rate, \"/ rate count : \", rate_count)\n",
    "        \n"
   ]
  },
  {
   "cell_type": "markdown",
   "metadata": {},
   "source": [
    "# Reference"
   ]
  },
  {
   "cell_type": "markdown",
   "metadata": {},
   "source": [
    "01. 쿠팡 데이터 가져오기 , https://www.youtube.com/watch?v=yQ20jZwDjTE&t=6536s "
   ]
  },
  {
   "cell_type": "code",
   "execution_count": null,
   "metadata": {},
   "outputs": [],
   "source": []
  }
 ],
 "metadata": {
  "kernelspec": {
   "display_name": "Python 3",
   "language": "python",
   "name": "python3"
  },
  "language_info": {
   "codemirror_mode": {
    "name": "ipython",
    "version": 3
   },
   "file_extension": ".py",
   "mimetype": "text/x-python",
   "name": "python",
   "nbconvert_exporter": "python",
   "pygments_lexer": "ipython3",
   "version": "3.8.3"
  }
 },
 "nbformat": 4,
 "nbformat_minor": 4
}
