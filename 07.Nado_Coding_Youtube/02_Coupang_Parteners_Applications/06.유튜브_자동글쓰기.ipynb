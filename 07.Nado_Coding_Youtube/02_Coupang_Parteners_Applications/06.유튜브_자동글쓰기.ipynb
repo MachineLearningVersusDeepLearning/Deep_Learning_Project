{
 "cells": [
  {
   "cell_type": "markdown",
   "metadata": {},
   "source": [
    "# 01. 유튜브 열기"
   ]
  },
  {
   "cell_type": "markdown",
   "metadata": {},
   "source": [
    "## 그냥 열면 구글이 막아 놨으므로, 다른 페이지에서 구글에 접속하는 방법을 활용할 예정"
   ]
  },
  {
   "cell_type": "code",
   "execution_count": 65,
   "metadata": {},
   "outputs": [
    {
     "name": "stderr",
     "output_type": "stream",
     "text": [
      "<ipython-input-65-4aaf576b9434>:13: DeprecationWarning: use options instead of chrome_options\n",
      "  driver = webdriver.Chrome(executable_path = driver_location,chrome_options=options)\n"
     ]
    }
   ],
   "source": [
    "#!/usr/bin/python3\n",
    "from selenium import webdriver\n",
    "from selenium.webdriver.common.keys import Keys\n",
    "import time\n",
    "import urllib.request\n",
    "binary_location = \"/usr/bin/google-chrome\"\n",
    "driver_location = \"/usr/local/bin/chromedriver\"\n",
    "\n",
    "\n",
    "options = webdriver.ChromeOptions()\n",
    "options.binary_location = binary_location\n",
    "\n",
    "driver = webdriver.Chrome(executable_path = driver_location,chrome_options=options)\n",
    "driver.get(\"https://stackoverflow.com/users/login?ssrc=head&returnurl=https%3a%2f%2fstackoverflow.com%2f\")\n",
    "driver.maximize_window()\n"
   ]
  },
  {
   "cell_type": "markdown",
   "metadata": {},
   "source": [
    "## 구글 아이디 비번호 타이핑하기"
   ]
  },
  {
   "cell_type": "code",
   "execution_count": 67,
   "metadata": {},
   "outputs": [
    {
     "data": {
      "text/plain": [
       "['.ipynb_checkpoints', 'gmail.txt', 'passwd.txt']"
      ]
     },
     "execution_count": 67,
     "metadata": {},
     "output_type": "execute_result"
    }
   ],
   "source": [
    "import os \n",
    "import time\n",
    "\n",
    "################################# 로그인 ###################################\n",
    "driver.find_element_by_xpath(\"/html/body/div[4]/div[2]/div/div[2]/button[1]\").click()\n",
    "\n",
    "################################## 아이디 비번 불러오기 #####################\n",
    "os.listdir(\"/home/nvidia/ai_data/passwd/\")\n",
    "path = os.listdir('/home/nvidia/ai_data/passwd/')\n",
    "with open(\"/home/nvidia/ai_data/passwd/gmail.txt\",\"r\") as f:\n",
    "    _id = f.readline()\n",
    "    _id = _id.split()[0]\n",
    "    _pd = f.readline()\n",
    "\n",
    "    \n",
    "elem = driver.find_element_by_xpath(\"/html/body/div[1]/div[1]/div[2]/div/div[2]/div/div/div[2]/div/div[1]/div/form/span/section/div/div/div[1]/div/div[1]/div/div[1]/input\")\n",
    "elem.send_keys(_id)\n",
    "################################ enter ################################\n",
    "elem.send_keys(Keys.RETURN)\n",
    "time.sleep(2)\n",
    "\n",
    "################################ enter ################################\n",
    "elem = driver.find_element_by_xpath(\"/html/body/div[1]/div[1]/div[2]/div/div[2]/div/div/div[2]/div/div[1]/div/form/span/section/div/div/div[1]/div[1]/div/div/div/div/div[1]/div/div[1]/input\")\n",
    "elem.send_keys(_pd)\n",
    "elem.send_keys(Keys.RETURN)\n",
    "time.sleep(2)\n",
    "\n",
    "driver.get(\"https://www.youtube.com/\")"
   ]
  },
  {
   "cell_type": "markdown",
   "metadata": {},
   "source": [
    "# 02. 타이핑하여 검색하기"
   ]
  },
  {
   "cell_type": "code",
   "execution_count": 74,
   "metadata": {},
   "outputs": [],
   "source": [
    "elem = driver.find_element_by_name(\"search_query\")\n",
    "elem.send_keys(\"computer\")\n",
    "################################ enter ################################\n",
    "elem.send_keys(Keys.RETURN)\n",
    "time.sleep(2)"
   ]
  },
  {
   "cell_type": "markdown",
   "metadata": {},
   "source": [
    "# 03. 스크롤 내리기"
   ]
  },
  {
   "cell_type": "code",
   "execution_count": 88,
   "metadata": {},
   "outputs": [],
   "source": [
    "for i in range(100):\n",
    "    driver.execute_script(\"window.scrollTo(0, 1000900)\" ) #document.body.scrollHeight);\")\n",
    "    time.sleep(1)"
   ]
  },
  {
   "cell_type": "code",
   "execution_count": 96,
   "metadata": {},
   "outputs": [],
   "source": [
    "elem = driver.find_elements_by_css_selector(\".yt-simple-endpoint.inline-block.style-scope.ytd-thumbnail\")[0]"
   ]
  },
  {
   "cell_type": "code",
   "execution_count": 97,
   "metadata": {},
   "outputs": [],
   "source": [
    "site = elem.get_property('href')"
   ]
  },
  {
   "cell_type": "code",
   "execution_count": 98,
   "metadata": {},
   "outputs": [],
   "source": [
    "#$driver2 = webdriver.Chrome(executable_path = driver_location,chrome_options=option)\n",
    "driver.get(site)\n",
    "#driver2.maximize_window()"
   ]
  },
  {
   "cell_type": "markdown",
   "metadata": {},
   "source": [
    "# 04. 글쓰기 및 따봉 누르기"
   ]
  },
  {
   "cell_type": "code",
   "execution_count": 119,
   "metadata": {},
   "outputs": [],
   "source": [
    "############################ 댓글 창 성택 #########################\n",
    "elem = driver.find_element_by_xpath(\"/html/body/ytd-app/div/ytd-page-manager/ytd-watch-flexy/div[4]/div[1]/div/ytd-comments/ytd-item-section-renderer/div[1]/ytd-comments-header-renderer/div[5]/ytd-comment-simplebox-renderer/div[3]/ytd-comment-dialog-renderer/ytd-commentbox/div/div[2]/paper-input-container/div[2]/div/div[1]/ytd-emoji-input/yt-user-mention-autosuggest-input/yt-formatted-string/div\")\n",
    "elem.send_keys(\"nice\")\n",
    "time.sleep(1)\n",
    "############################ 제출 버튼 클릭 ########################\n",
    "elem = driver.find_element_by_xpath(\"/html/body/ytd-app/div/ytd-page-manager/ytd-watch-flexy/div[4]/div[1]/div/ytd-comments/ytd-item-section-renderer/div[1]/ytd-comments-header-renderer/div[5]/ytd-comment-simplebox-renderer/div[3]/ytd-comment-dialog-renderer/ytd-commentbox/div/div[4]/div[5]/ytd-button-renderer[2]/a/paper-button\")\n",
    "elem.click()\n",
    "time.sleep(1)\n",
    "############################ 영상 좋아요 #########################\n",
    "elem = driver.find_elements_by_css_selector(\".style-scope.ytd-toggle-button-renderer\")[0]\n",
    "elem.click()\n",
    "############################ 댓글 좋아요 #########################\n",
    "elem = driver.find_element_by_xpath(\"/html/body/ytd-app/div/ytd-page-manager/ytd-watch-flexy/div[4]/div[1]/div/ytd-comments/ytd-item-section-renderer/div[3]/ytd-comment-thread-renderer[1]/ytd-comment-renderer/div[1]/div[2]/ytd-comment-action-buttons-renderer/div[1]/ytd-toggle-button-renderer[1]/a/yt-icon-button/button/yt-icon\")\n",
    "elem.click()\n"
   ]
  },
  {
   "cell_type": "markdown",
   "metadata": {},
   "source": [
    "# Fire fox를 사용하여 쿠팡 파트너스에 접속하기 "
   ]
  },
  {
   "cell_type": "code",
   "execution_count": 1,
   "metadata": {},
   "outputs": [],
   "source": [
    "#!/usr/bin/python3\n",
    "from selenium import webdriver\n",
    "from selenium.webdriver.common.keys import Keys\n",
    "import time\n",
    "import urllib.request\n",
    "import os\n",
    "\n",
    "\n",
    "path = os.listdir('/home/nvidia/ai_data/passwd/')\n",
    "with open(\"/home/nvidia/ai_data/passwd/passwd.txt\",\"r\") as f:\n",
    "    _id = f.readline()\n",
    "    _pd = f.readline()\n",
    "\n",
    "\n",
    "from selenium import webdriver\n",
    "from selenium.webdriver.common.keys import Keys\n",
    "driver3 = webdriver.Firefox(executable_path=\"/home/nvidia/firefox/geckodriver\")\n",
    "driver3.get('https://partners.coupang.com/')\n",
    "driver3.maximize_window()\n",
    "\n",
    "elem = driver3.find_element_by_xpath(\"/html/body/div/div/div/div[1]/header/div[2]/div/button[1]\")\n",
    "\n",
    "elem.click()\n",
    "time.sleep(1)\n",
    "\n",
    "\n",
    "elem = driver3.find_element_by_name(\"email\")\n",
    "elem.send_keys(_id.split()[0])\n",
    "\n",
    "elem = driver3.find_element_by_name(\"password\")\n",
    "elem.send_keys(_pd)\n",
    "elem.send_keys(Keys.RETURN)\n",
    "time.sleep(1)\n",
    "#################### enter #############################\n",
    "elem = driver3.find_element_by_xpath('/html/body/div/div/div/div[2]/div/div/div[1]/div/div/div[2]/div/div/div/div/div/div/div/div[1]/div/div/div/span/input')\n",
    "elem.send_keys(\"컴퓨터\")\n",
    "elem.send_keys(Keys.RETURN)\n",
    "time.sleep(1)\n",
    "#################### enter #############################\n"
   ]
  },
  {
   "cell_type": "markdown",
   "metadata": {},
   "source": [
    "# Reference"
   ]
  },
  {
   "cell_type": "markdown",
   "metadata": {},
   "source": [
    "01. 구글 계정에 접속하는 방법, https://www.youtube.com/watch?v=HkgDRRWrZKg&feature=youtu.be "
   ]
  }
 ],
 "metadata": {
  "kernelspec": {
   "display_name": "Python 3",
   "language": "python",
   "name": "python3"
  },
  "language_info": {
   "codemirror_mode": {
    "name": "ipython",
    "version": 3
   },
   "file_extension": ".py",
   "mimetype": "text/x-python",
   "name": "python",
   "nbconvert_exporter": "python",
   "pygments_lexer": "ipython3",
   "version": "3.8.3"
  }
 },
 "nbformat": 4,
 "nbformat_minor": 4
}
