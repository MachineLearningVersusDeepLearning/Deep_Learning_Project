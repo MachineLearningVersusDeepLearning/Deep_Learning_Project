{
 "cells": [
  {
   "cell_type": "markdown",
   "metadata": {},
   "source": [
    "# 01. 라이브러리 가져오기"
   ]
  },
  {
   "cell_type": "code",
   "execution_count": 37,
   "metadata": {},
   "outputs": [],
   "source": [
    "import requests\n",
    "from bs4 import BeautifulSoup \n",
    "from urllib.request import urlopen\n",
    "import re"
   ]
  },
  {
   "cell_type": "markdown",
   "metadata": {},
   "source": [
    "# 02. 쿠팡에 접속하기"
   ]
  },
  {
   "cell_type": "code",
   "execution_count": 38,
   "metadata": {},
   "outputs": [],
   "source": [
    "url =\"https://www.coupang.com/np/search?component=&q=%EB%85%B8%ED%8A%B8%EB%B6%81&channel=user\"\n",
    "headers = {\"User-Agent\":\"Mozilla/5.0 (X11; Linux x86_6dd4) AppleWebKit/537.36 (KHTML, like Gecko) Chrome/87.0.4280.88 Safari/537.36\"}\n",
    "res = requests.get(url, headers = headers)\n",
    "res.raise_for_status()\n"
   ]
  },
  {
   "cell_type": "code",
   "execution_count": 39,
   "metadata": {},
   "outputs": [],
   "source": [
    "soup = BeautifulSoup(res.text,\"lxml\")\n",
    "items = soup.find_all(\"li\",attrs={\"class\":re.compile(\"^search-product\")})"
   ]
  },
  {
   "cell_type": "markdown",
   "metadata": {},
   "source": [
    "# 02. Find Last Page"
   ]
  },
  {
   "cell_type": "code",
   "execution_count": 40,
   "metadata": {},
   "outputs": [
    {
     "name": "stdout",
     "output_type": "stream",
     "text": [
      "27\n"
     ]
    }
   ],
   "source": [
    "items = soup.find_all(\"div\",attrs={\"class\":\"search-pagination\"})\n",
    "for item in items:\n",
    "    last_page = int(item.find(\"a\",attrs={\"class\":\"btn-last disabled\"}).get_text())\n",
    "    print(last_page)"
   ]
  },
  {
   "cell_type": "markdown",
   "metadata": {},
   "source": [
    "# 03. Search All Pages"
   ]
  },
  {
   "cell_type": "code",
   "execution_count": 32,
   "metadata": {},
   "outputs": [
    {
     "name": "stdout",
     "output_type": "stream",
     "text": [
      "link : https://www.coupang.com/vp/products/1395425733?itemId=2430730738&vendorItemId=70424683912&pickType=COU_PICK\n",
      "/name :  Ap / price :  1,214,400 / rate :  5.0 / rate count :  924\n",
      "link : https://www.coupang.com/vp/products/1459817856?itemId=2511843147&vendorItemId=70504880374\n",
      "/name :  삼성 / price :  1,379,000 / rate :  5.0 / rate count :  333\n",
      "link : https://www.coupang.com/vp/products/1137914312?itemId=2517400150&vendorItemId=70510368267\n",
      "/name :  삼성 / price :  1,959,000 / rate :  5.0 / rate count :  140\n",
      "link : https://www.coupang.com/vp/products/242636932?itemId=2098714469&vendorItemId=70097614784\n",
      "/name :  삼성 / price :  1,259,000 / rate :  5.0 / rate count :  105\n",
      "link : https://www.coupang.com/vp/products/242636932?itemId=2229790573&vendorItemId=70227406532\n",
      "/name :  삼성 / price :  1,390,000 / rate :  5.0 / rate count :  105\n",
      "link : https://www.coupang.com/vp/products/1395425733?itemId=2430730758&vendorItemId=70424683932\n",
      "/name :  Ap / price :  1,254,000 / rate :  5.0 / rate count :  924\n",
      "link : https://www.coupang.com/vp/products/1665218191?itemId=2057670065&vendorItemId=70056945104\n",
      "/name :  LG / price :  1,669,700 / rate :  5.0 / rate count :  101\n",
      "link : https://www.coupang.com/vp/products/1395425733?itemId=2478684678&vendorItemId=70472016411\n",
      "/name :  Ap / price :  1,940,000 / rate :  5.0 / rate count :  924\n",
      "link : https://www.coupang.com/vp/products/1066005124?itemId=2012813588&vendorItemId=70012621867\n",
      "/name :  Ap / price :  3,392,900 / rate :  5.0 / rate count :  1539\n",
      "link : https://www.coupang.com/vp/products/1650206709?itemId=2811525430&vendorItemId=70801067391\n",
      "/name :  Ap / price :  1,890,500 / rate :  5.0 / rate count :  808\n",
      "link : https://www.coupang.com/vp/products/1066005124?itemId=2012811486&vendorItemId=70012621855\n",
      "/name :  Ap / price :  3,321,000 / rate :  5.0 / rate count :  1539\n",
      "link : https://www.coupang.com/vp/products/1066005124?itemId=3370177491&vendorItemId=71356894150\n",
      "/name :  Ap / price :  4,000,000 / rate :  5.0 / rate count :  1539\n",
      "link : https://www.coupang.com/vp/products/241092251?itemId=2532747859&vendorItemId=70525497142\n",
      "/name :  Ap / price :  2,521,570 / rate :  5.0 / rate count :  1172\n",
      "link : https://www.coupang.com/vp/products/1395425733?itemId=2478684763&vendorItemId=70472016526\n",
      "/name :  Ap / price :  1,462,800 / rate :  5.0 / rate count :  924\n",
      "link : https://www.coupang.com/vp/products/1650206709?itemId=3370176583&vendorItemId=71356893204\n",
      "/name :  Ap / price :  3,300,000 / rate :  5.0 / rate count :  808\n",
      "link : https://www.coupang.com/vp/products/1395425733?itemId=2478684564&vendorItemId=70472016354\n",
      "/name :  Ap / price :  1,905,000 / rate :  5.0 / rate count :  924\n",
      "link : https://www.coupang.com/vp/products/1066005124?itemId=3370176271&vendorItemId=71356892734\n",
      "/name :  Ap / price :  4,270,000 / rate :  5.0 / rate count :  1539\n",
      "link : https://www.coupang.com/vp/products/1650206709?itemId=3370176413&vendorItemId=71356893014\n",
      "/name :  Ap / price :  3,570,000 / rate :  5.0 / rate count :  808\n",
      "link : https://www.coupang.com/vp/products/241092251?itemId=2532748118&vendorItemId=70525497365\n",
      "/name :  Ap / price :  1,918,860 / rate :  5.0 / rate count :  1172\n",
      "link : https://www.coupang.com/vp/products/1708399769?itemId=2907449308&vendorItemId=70896200766\n",
      "/name :  디스 / price :  14,770 / rate :  5.0 / rate count :  126\n",
      "link : https://www.coupang.com/vp/products/1708399769?itemId=2907449306&vendorItemId=70896200724\n",
      "/name :  디스 / price :  14,770 / rate :  5.0 / rate count :  126\n",
      "link : https://www.coupang.com/vp/products/1514227930?itemId=2599131239&vendorItemId=70590337229\n",
      "/name :  애니 / price :  29,540 / rate :  5.0 / rate count :  194\n",
      "link : https://www.coupang.com/vp/products/1514227930?itemId=2599131238&vendorItemId=70590337194\n",
      "/name :  애니 / price :  29,540 / rate :  5.0 / rate count :  194\n",
      "link : https://www.coupang.com/vp/products/12969526?itemId=54508819&vendorItemId=3085344991\n",
      "/name :  엑토 / price :  42,150 / rate :  5.0 / rate count :  101\n",
      "link : https://www.coupang.com/vp/products/1708399769?itemId=2907449303&vendorItemId=71720896993\n",
      "/name :  디스 / price :  16,500 / rate :  5.0 / rate count :  126\n",
      "link : https://www.coupang.com/vp/products/130658838?itemId=384606425&vendorItemId=3933946934\n",
      "/name :  아리 / price :  13,500 / rate :  5.0 / rate count :  127\n",
      "link : https://www.coupang.com/vp/products/130658838?itemId=384606425&vendorItemId=3933946934\n",
      "/name :  아리 / price :  13,500 / rate :  5.0 / rate count :  127\n",
      "link : https://www.coupang.com/vp/products/11550760?itemId=49735500&vendorItemId=3641081532\n",
      "/name :  플럭 / price :  10,980 / rate :  5.0 / rate count :  106\n"
     ]
    }
   ],
   "source": [
    "url =\"https://www.coupang.com/np/search?component=&q=%EB%85%B8%ED%8A%B8%EB%B6%81&channel=user\"\n",
    "headers = {\"User-Agent\":\"Mozilla/5.0 (X11; Linux x86_64) AppleWebKit/537.36 (KHTML, like Gecko) Chrome/87.0.4280.88 Safari/537.36\"}\n",
    "\n",
    "\n",
    "for i in range(1,last_page+1):\n",
    "    url = \"https://www.coupang.com/np/search?q=%EB%85%B8%ED%8A%B8%EB%B6%81&channel=user&component=&eventCategory=SRP&trcid=&traid=&sorter=scoreDesc&minPrice=&maxPrice=&priceRange=&filterType=&listSize=36&filter=&isPriceRange=false&brand=&offerCondition=&rating=0&page={}&rocketAll=false&searchIndexingToken=1=4&backgroundColor=\".format(i)\n",
    "    res = requests.get(url, headers = headers)\n",
    "    res.raise_for_status()\n",
    "    soup = BeautifulSoup(res.text,\"lxml\")\n",
    "    items = soup.find_all(\"li\",attrs={\"class\":re.compile(\"^search-product\")})\n",
    "\n",
    "    \n",
    "    \n",
    "    for item in items:\n",
    "    ###################### 광고 ############################\n",
    "        ad = item.find(\"span\", attrs = {\"class\" : \"ad-badge-text\"})\n",
    "        if ad:\n",
    "            pass\n",
    "        else:\n",
    "            ###################### 이름 ############################\n",
    "            name = item.find(\"div\",attrs={\"class\":\"name\"})\n",
    "            if name:\n",
    "                name = name.get_text()\n",
    "            else:\n",
    "                name = \"no name\"\n",
    "\n",
    "            ###################### 가격 ############################\n",
    "            price =  item.find(\"strong\",attrs={\"class\":\"price-value\"})\n",
    "            if price:\n",
    "                price = price.get_text()\n",
    "            else :\n",
    "                price = \"no price\"\n",
    "\n",
    "            ###################### 평점 ############################\n",
    "            rate = item.find(\"em\",attrs={\"class\":\"rating\"})\n",
    "            if rate:\n",
    "                rate = rate.get_text()\n",
    "            else: \n",
    "                rate = 0\n",
    "\n",
    "            rate_count = item.find(\"span\",attrs={\"class\":\"rating-total-count\"})\n",
    "            if rate_count:\n",
    "                rate_count = rate_count.get_text()\n",
    "                rate_count = (rate_count.split('(')[1].split(')')[0]) # [1:-1\n",
    "            else: \n",
    "                rate_count = 0\n",
    "\n",
    "\n",
    "            if (float(rate) >4.5) & (float(rate_count)>100) :\n",
    "                link = item.find(\"a\",attrs={\"class\":\"search-product-link\"})['href']\n",
    "                print(\"link : https://www.coupang.com\"+link)\n",
    "                print(\"/name : \",name[0:2], \"/ price : \",price, \"/ rate : \", rate, \"/ rate count : \", rate_count)\n",
    "\n"
   ]
  },
  {
   "cell_type": "markdown",
   "metadata": {},
   "source": [
    "# Reference"
   ]
  },
  {
   "cell_type": "markdown",
   "metadata": {},
   "source": [
    "01. 쿠팡 데이터 가져오기 , https://www.youtube.com/watch?v=yQ20jZwDjTE&t=6536s "
   ]
  },
  {
   "cell_type": "code",
   "execution_count": null,
   "metadata": {},
   "outputs": [],
   "source": []
  }
 ],
 "metadata": {
  "kernelspec": {
   "display_name": "Python 3",
   "language": "python",
   "name": "python3"
  },
  "language_info": {
   "codemirror_mode": {
    "name": "ipython",
    "version": 3
   },
   "file_extension": ".py",
   "mimetype": "text/x-python",
   "name": "python",
   "nbconvert_exporter": "python",
   "pygments_lexer": "ipython3",
   "version": "3.8.3"
  }
 },
 "nbformat": 4,
 "nbformat_minor": 4
}
