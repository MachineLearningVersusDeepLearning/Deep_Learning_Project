{
 "cells": [
  {
   "cell_type": "markdown",
   "metadata": {},
   "source": [
    "# 쿠팡 파트너스 로그인"
   ]
  },
  {
   "cell_type": "code",
   "execution_count": 51,
   "metadata": {},
   "outputs": [
    {
     "name": "stdout",
     "output_type": "stream",
     "text": [
      "https://partners.coupang.com/#affiliate/ws\n"
     ]
    }
   ],
   "source": [
    "#!/usr/bin/python3\n",
    "import requests\n",
    "from bs4 import BeautifulSoup \n",
    "from urllib.request import urlopen\n",
    "import re\n",
    "\n",
    "from selenium import webdriver\n",
    "from selenium.webdriver.common.keys import Keys\n",
    "import time\n",
    "import urllib.request\n",
    "import os\n",
    "\n",
    "\n",
    "class _coupang_url():\n",
    "    def __init__(self):\n",
    "        ############## read password ##############\n",
    "        with open(\"/home/nvidia/ai_data/passwd/passwd.txt\",\"r\") as f:\n",
    "            self._id = f.readline()\n",
    "            self._pd = f.readline()\n",
    "\n",
    "        self.driver3 = webdriver.Firefox(executable_path=\"/home/nvidia/firefox/geckodriver\")\n",
    "        self.search_name = \"컴퓨터\"\n",
    "            \n",
    "    def _login(self):\n",
    "        while(True):\n",
    "            try:\n",
    "                ############## if 10 seconds later, no happen, refresh again\n",
    "                self.driver3.get('https://login.coupang.com/login/login.pang?rtnUrl=https%3A%2F%2Fpartners.coupang.com%2Fapi%2Fv1%2Fpostlogin%3Fs%3DihiIJt-3q4IvXjBafF1Z76Q1Dh7bX62s2eFB7SDn79_mCyZc_lKpa3eTaLsRIL_9WW0_j7SfTRhQEh8ge3fraje82plSBz4pFrO-ZIuOUi0lPCq19_tY2RNXtmLecMm-z1KNkEywVNUhYZpYH54s0g')\n",
    "                self.driver3.maximize_window()\n",
    "                ################### try login #######ue################\n",
    "                elem = self.driver3.find_element_by_name(\"email\")\n",
    "                elem.clear()\n",
    "                elem.send_keys(self._id.split()[0])\n",
    "\n",
    "                elem = self.driver3.find_element_by_name(\"password\")\n",
    "                elem.clear()\n",
    "                elem.send_keys(self._pd)\n",
    "                elem.submit()\n",
    "\n",
    "            ############# after 10 seconds later #################################\n",
    "                time.sleep(5)\n",
    "                if self.driver3.current_url == \"https://partners.coupang.com/#affiliate/ws\":\n",
    "                    print(self.driver3.current_url)\n",
    "                    break\n",
    "                else:\n",
    "                    self.driver3.close()\n",
    "\n",
    "            except Exception as e:\n",
    "                print(\"error\",e)        \n",
    "\n",
    "                \n",
    "    def _url_record(self):\n",
    "        try:\n",
    "        ############################### save as text ##########################\n",
    "            #with open(_text,\"w\") as f:\n",
    "            _text = \"{}.txt\".format(self.search_name)\n",
    "            ########################  connect to the coupang #######################\n",
    "            url =\"https://www.coupang.com/np/search?component=&q={}&channel=user\".format(self.search_name)\n",
    "            headers = {\"User-Agent\":\"Mozilla/5.0 (X11; Linux x86_6dd4) AppleWebKit/537.36 (KHTML, like Gecko) Chrome/87.0.4280.88 Safari/537.36\"}\n",
    "            res = requests.get(url, headers = headers)\n",
    "            res.raise_for_status()\n",
    "            soup = BeautifulSoup(res.text,\"lxml\")\n",
    "            items = soup.find_all(\"li\",attrs={\"class\":re.compile(\"^search-product\")})\n",
    "\n",
    "            ######################## find last page ################################\n",
    "            items = soup.find_all(\"div\",attrs={\"class\":\"search-pagination\"})\n",
    "            for item in items:\n",
    "                #################### record last page #####################\n",
    "                last_page = int(item.find(\"a\",attrs={\"class\":\"btn-last disabled\"}).get_text())\n",
    "\n",
    "            for i in range(1,2) :#########################last_page+1):\n",
    "                url = \"https://www.coupang.com/np/search?q=%EB%85%B8%ED%8A%B8%EB%B6%81&channel=user&component=&eventCategory=SRP&trcid=&traid=&sorter=scoreDesc&minPrice=&maxPrice=&priceRange=&filterType=&listSize=36&filter=&isPriceRange=false&brand=&offerCondition=&rating=0&page={}&rocketAll=false&searchIndexingToken=1=4&backgroundColor=\".format(i)\n",
    "                res = requests.get(url, headers = headers)\n",
    "                res.raise_for_status()\n",
    "                soup = BeautifulSoup(res.text,\"lxml\")\n",
    "                items = soup.find_all(\"li\",attrs={\"class\":re.compile(\"^search-product\")})\n",
    "\n",
    "                for item in items:\n",
    "                ###################### 광고 ############################\n",
    "                    ad = item.find(\"span\", attrs = {\"class\" : \"ad-badge-text\"})\n",
    "                    if ad:\n",
    "                        pass\n",
    "                    else:\n",
    "                        ###################### 이름 ############################\n",
    "                        name = item.find(\"div\",attrs={\"class\":\"name\"})\n",
    "                        if name:\n",
    "                            name = name.get_text()\n",
    "                        else:\n",
    "                            name = \"no name\"\n",
    "                        ###################### 가격 ############################\n",
    "                        price =  item.find(\"strong\",attrs={\"class\":\"price-value\"})\n",
    "                        if price:\n",
    "                            price = price.get_text()\n",
    "                        else :\n",
    "                            price = \"no price\"\n",
    "\n",
    "                        ###################### 평점 ############################\n",
    "                        rate = item.find(\"em\",attrs={\"class\":\"rating\"})\n",
    "                        if rate:\n",
    "                            rate = rate.get_text()\n",
    "                        else: \n",
    "                            rate = 0\n",
    "\n",
    "                        rate_count = item.find(\"span\",attrs={\"class\":\"rating-total-count\"})\n",
    "                        if rate_count:\n",
    "                            rate_count = rate_count.get_text()\n",
    "                            rate_count = (rate_count.split('(')[1].split(')')[0]) # [1:-1\n",
    "                        else: \n",
    "                            rate_count = 0\n",
    "\n",
    "\n",
    "                        if (float(rate) >4.5) & (float(rate_count)>100) :\n",
    "                            link = item.find(\"a\",attrs={\"class\":\"search-product-link\"})['href']\n",
    "                            link = \"https://www.coupang.com\"+link\n",
    "                            #print(\"link : \", link)\n",
    "\n",
    "        #                 ############################### 쿠팡 열기 ################################\n",
    "                            self.driver3.get('https://partners.coupang.com/#affiliate/ws/link-to-any-page')\n",
    "                            time.sleep(1)\n",
    "                            elem = self.driver3.find_element_by_xpath('//*[@id=\"url\"]')\n",
    "                            elem.clear()\n",
    "                            elem.send_keys(link)\n",
    "                            time.sleep(1)\n",
    "                            elem = self.driver3.find_element_by_xpath('/html/body/div[1]/div/div/div[2]/div/div/div[1]/div/div/div[2]/div/div/div[2]/div/div/div/div[1]/div[2]/form/div/div/div/span/span/span/button')\n",
    "                            elem.click()\n",
    "                            time.sleep(1)\n",
    "                            soup = BeautifulSoup(self.driver3.page_source,\"lxml\")\n",
    "                            url = soup.find_all(\"div\",attrs={\"class\":[\"unselectable-input tracking-url-input large\"]})\n",
    "                            ########################### split using >  for div> #####################\n",
    "                            test = str(url).split('>')\n",
    "                            ########################## split using < for <div #####################\n",
    "                            test = str(test[-2]).split('<')\n",
    "                            #print(test[0])\n",
    "                            #print(\"/name : \",name, \"/ price : \",price, \"/ rate : \", rate, \"/ rate count : \", rate_count)\n",
    "                            _sentence = \"오 대박 좋네요!! 영상과 관련한 제품이 {} 에서 팔고있네요. 평점 {}점이고 {}명이 리뷰를 작성했네요!!! 어서 확인해보세요!\".format(test[0],rate,rate_count)\n",
    "                            print(_sentence)\n",
    "                            f.write(name)\n",
    "                            f.write(_sentence)\n",
    "\n",
    "\n",
    "\n",
    "        except Exception as e:\n",
    "            print(\"Error Appear\",e)\n",
    "            if e == \"Error Appear I/O operation on closed file.\":\n",
    "                elem = self.driver3.find_elements_by_xpath(\"//*[@id=\"password\"]\")\n",
    "                elem.send_keys(self._pd)\n",
    "\n",
    "\n"
   ]
  },
  {
   "cell_type": "markdown",
   "metadata": {},
   "source": [
    "# 로그인 안되면 다시하기"
   ]
  },
  {
   "cell_type": "code",
   "execution_count": 52,
   "metadata": {},
   "outputs": [
    {
     "name": "stdout",
     "output_type": "stream",
     "text": [
      "오 대박 좋네요!! 영상과 관련한 제품이  에서 팔고있네요. 평점 5.0점이고 930명이 리뷰를 작성했네요!!! 어서 확인해보세요!\n",
      "Error Appear I/O operation on closed file.\n"
     ]
    }
   ],
   "source": []
  },
  {
   "cell_type": "markdown",
   "metadata": {},
   "source": [
    "# Reference"
   ]
  },
  {
   "cell_type": "markdown",
   "metadata": {},
   "source": [
    "01. 쿠팡 데이터 가져오기 , https://www.youtube.com/watch?v=yQ20jZwDjTE&t=6536s "
   ]
  },
  {
   "cell_type": "markdown",
   "metadata": {},
   "source": [
    "2. \\n\\n\\n\\n\\n\\n파트너스 활동을 통해 일정액의 수수료를 제공받을 수 있음 추가하기"
   ]
  },
  {
   "cell_type": "code",
   "execution_count": null,
   "metadata": {},
   "outputs": [],
   "source": []
  }
 ],
 "metadata": {
  "kernelspec": {
   "display_name": "Python 3",
   "language": "python",
   "name": "python3"
  },
  "language_info": {
   "codemirror_mode": {
    "name": "ipython",
    "version": 3
   },
   "file_extension": ".py",
   "mimetype": "text/x-python",
   "name": "python",
   "nbconvert_exporter": "python",
   "pygments_lexer": "ipython3",
   "version": "3.8.3"
  }
 },
 "nbformat": 4,
 "nbformat_minor": 4
}
